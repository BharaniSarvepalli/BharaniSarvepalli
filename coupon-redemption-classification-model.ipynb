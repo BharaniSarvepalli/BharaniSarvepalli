{
 "cells": [
  {
   "cell_type": "markdown",
   "metadata": {
    "papermill": {
     "duration": 0.044356,
     "end_time": "2021-03-09T22:03:35.615415",
     "exception": false,
     "start_time": "2021-03-09T22:03:35.571059",
     "status": "completed"
    },
    "tags": []
   },
   "source": [
    "# Coupon redemption classification model\n",
    "**We know from the dataset that 70% of the customers never use the coupons they receive and this would lead to a waste of money and time for the company.\n",
    "My objective here is to create a classification model to predict if a customer will redeem its coupons or not for the last 5 campaigns of the year. Beyond knowing which customers will redeem their coupons, it can be more interesting for a company to identify which customers won't redeem them in order to either decide on different marketing and communication actions for reaching them or to not send them coupon at all and save money.**"
   ]
  },
  {
   "cell_type": "markdown",
   "metadata": {
    "papermill": {
     "duration": 0.040851,
     "end_time": "2021-03-09T22:03:35.698769",
     "exception": false,
     "start_time": "2021-03-09T22:03:35.657918",
     "status": "completed"
    },
    "tags": []
   },
   "source": [
    "### Table of Contents\n",
    "\n",
    "* [1. Dataset Creation](#section_1)\n",
    "    * [A. Demographic data](#section_1_1)\n",
    "    * [B. Campaign data](#section_1_2)\n",
    "    * [C. Coupon redemption data](#section_1_3)\n",
    "    * [D. Transaction data](#section_1_4)  \n",
    "    ___\n",
    "* [2. Data Exploration](#section_2)\n",
    "    * [A. Shape of our data](#section_2_1)\n",
    "    * [B. Data types and data completeness](#section_2_2)\n",
    "    * [C. Statistical summary](#section_2_3)\n",
    "    * [D. Class distribution](#section_2_4)\n",
    "    * [E. Variable encoding and split](#section_2_5)\n",
    "    * [F. Skew of univariate distribution](#section_2_6)\n",
    "    * [G. Correlation between attributes](#section_2_7)\n",
    "    ---\n",
    "* [3. Data Preprocessing](#section_3)\n",
    "    * [A. Split into train test](#section_3_1)\n",
    "    * [B. Data transformation](#section_3_2)\n",
    "    * [C. Feature selection](#section_3_3)\n",
    "   ___\n",
    "* [4. Model Creation](#section_4)\n",
    "    * [A. Baseline model](#section_4_1)\n",
    "    * [B. Model hyperparameter tuning](#section_4_2)\n",
    "    ___\n",
    "* [5. Model Results](#section_5)\n",
    "    * [A. Accuracy and Precision scores](#section_5_1)\n",
    "    * [B. Learning curve](#section_5_2)\n",
    "    * [C. Confusion matrix](#section_5_3)\n",
    "    ---"
   ]
  },
  {
   "cell_type": "markdown",
   "metadata": {
    "papermill": {
     "duration": 0.042234,
     "end_time": "2021-03-09T22:03:35.782699",
     "exception": false,
     "start_time": "2021-03-09T22:03:35.740465",
     "status": "completed"
    },
    "tags": []
   },
   "source": [
    "# 1. Dataset Creation <a class=\"anchor\" id=\"section_1\"></a>"
   ]
  },
  {
   "cell_type": "code",
   "execution_count": 1,
   "metadata": {
    "_cell_guid": "b1076dfc-b9ad-4769-8c92-a6c4dae69d19",
    "_kg_hide-input": true,
    "_kg_hide-output": true,
    "_uuid": "8f2839f25d086af736a60e9eeb907d3b93b6e0e5",
    "collapsed": true,
    "execution": {
     "iopub.execute_input": "2021-03-09T22:03:35.869174Z",
     "iopub.status.busy": "2021-03-09T22:03:35.868502Z",
     "iopub.status.idle": "2021-03-09T22:03:37.899526Z",
     "shell.execute_reply": "2021-03-09T22:03:37.899986Z"
    },
    "papermill": {
     "duration": 2.075736,
     "end_time": "2021-03-09T22:03:37.900155",
     "exception": false,
     "start_time": "2021-03-09T22:03:35.824419",
     "status": "completed"
    },
    "tags": []
   },
   "outputs": [
    {
     "name": "stdout",
     "output_type": "stream",
     "text": [
      "/kaggle/input/dunnhumby-the-complete-journey/campaign_table.csv\n",
      "/kaggle/input/dunnhumby-the-complete-journey/causal_data.csv\n",
      "/kaggle/input/dunnhumby-the-complete-journey/coupon.csv\n",
      "/kaggle/input/dunnhumby-the-complete-journey/campaign_desc.csv\n",
      "/kaggle/input/dunnhumby-the-complete-journey/product.csv\n",
      "/kaggle/input/dunnhumby-the-complete-journey/transaction_data.csv\n",
      "/kaggle/input/dunnhumby-the-complete-journey/hh_demographic.csv\n",
      "/kaggle/input/dunnhumby-the-complete-journey/coupon_redempt.csv\n"
     ]
    }
   ],
   "source": [
    "import warnings\n",
    "import numpy as np\n",
    "import pandas as pd\n",
    "import sklearn as sk\n",
    "import matplotlib\n",
    "import seaborn as sns\n",
    "import matplotlib.pyplot as plt\n",
    "import collections\n",
    "from collections import Counter\n",
    "from sklearn.decomposition import PCA\n",
    "%matplotlib inline\n",
    "warnings.filterwarnings('ignore')\n",
    "\n",
    "import xgboost as xgb\n",
    "from scipy import stats\n",
    "from sklearn.model_selection import GridSearchCV\n",
    "from sklearn.model_selection import StratifiedKFold\n",
    "from sklearn.model_selection import cross_val_score\n",
    "from sklearn.metrics import precision_score\n",
    "from sklearn import preprocessing\n",
    "from sklearn.preprocessing import PowerTransformer\n",
    "from sklearn.preprocessing import LabelEncoder\n",
    "from xgboost import XGBClassifier\n",
    "from sklearn.model_selection import train_test_split\n",
    "from sklearn.metrics import accuracy_score\n",
    "from sklearn.metrics import precision_score\n",
    "from sklearn.metrics import recall_score\n",
    "from sklearn.metrics import classification_report\n",
    "\n",
    "import os\n",
    "for dirname, _, filenames in os.walk('/kaggle/input'):\n",
    "    for filename in filenames:\n",
    "        print(os.path.join(dirname, filename))\n",
    "data_folder = \"/kaggle/input/dunnhumby-the-complete-journey/\""
   ]
  },
  {
   "cell_type": "markdown",
   "metadata": {
    "papermill": {
     "duration": 0.041334,
     "end_time": "2021-03-09T22:03:37.984914",
     "exception": false,
     "start_time": "2021-03-09T22:03:37.943580",
     "status": "completed"
    },
    "tags": []
   },
   "source": [
    "### Demographics data <a class=\"anchor\" id=\"section_1_1\"></a>\n",
    "This table contains several demographics information concerning __802 regular customers__. let's load the data and start an exploratory data analysis "
   ]
  },
  {
   "cell_type": "code",
   "execution_count": 2,
   "metadata": {
    "_cell_guid": "79c7e3d0-c299-4dcb-8224-4455121ee9b0",
    "_kg_hide-input": true,
    "_uuid": "d629ff2d2480ee46fbb7e2d37f6b5fab8052498a",
    "execution": {
     "iopub.execute_input": "2021-03-09T22:03:38.075503Z",
     "iopub.status.busy": "2021-03-09T22:03:38.074769Z",
     "iopub.status.idle": "2021-03-09T22:03:38.118276Z",
     "shell.execute_reply": "2021-03-09T22:03:38.118768Z"
    },
    "papermill": {
     "duration": 0.094183,
     "end_time": "2021-03-09T22:03:38.118924",
     "exception": false,
     "start_time": "2021-03-09T22:03:38.024741",
     "status": "completed"
    },
    "tags": []
   },
   "outputs": [
    {
     "data": {
      "text/html": [
       "<div>\n",
       "<style scoped>\n",
       "    .dataframe tbody tr th:only-of-type {\n",
       "        vertical-align: middle;\n",
       "    }\n",
       "\n",
       "    .dataframe tbody tr th {\n",
       "        vertical-align: top;\n",
       "    }\n",
       "\n",
       "    .dataframe thead th {\n",
       "        text-align: right;\n",
       "    }\n",
       "</style>\n",
       "<table border=\"1\" class=\"dataframe\">\n",
       "  <thead>\n",
       "    <tr style=\"text-align: right;\">\n",
       "      <th></th>\n",
       "      <th>AGE_DESC</th>\n",
       "      <th>MARITAL_STATUS_CODE</th>\n",
       "      <th>INCOME_DESC</th>\n",
       "      <th>HOMEOWNER_DESC</th>\n",
       "      <th>HH_COMP_DESC</th>\n",
       "      <th>HOUSEHOLD_SIZE_DESC</th>\n",
       "      <th>KID_CATEGORY_DESC</th>\n",
       "      <th>household_key</th>\n",
       "    </tr>\n",
       "  </thead>\n",
       "  <tbody>\n",
       "    <tr>\n",
       "      <th>0</th>\n",
       "      <td>65+</td>\n",
       "      <td>Married</td>\n",
       "      <td>35-49K</td>\n",
       "      <td>Homeowner</td>\n",
       "      <td>2 Adults No Kids</td>\n",
       "      <td>2</td>\n",
       "      <td>None/Unknown</td>\n",
       "      <td>1</td>\n",
       "    </tr>\n",
       "    <tr>\n",
       "      <th>1</th>\n",
       "      <td>45-54</td>\n",
       "      <td>Married</td>\n",
       "      <td>50-74K</td>\n",
       "      <td>Homeowner</td>\n",
       "      <td>2 Adults No Kids</td>\n",
       "      <td>2</td>\n",
       "      <td>None/Unknown</td>\n",
       "      <td>7</td>\n",
       "    </tr>\n",
       "    <tr>\n",
       "      <th>2</th>\n",
       "      <td>25-34</td>\n",
       "      <td>Single</td>\n",
       "      <td>25-34K</td>\n",
       "      <td>Unknown</td>\n",
       "      <td>2 Adults Kids</td>\n",
       "      <td>3</td>\n",
       "      <td>1</td>\n",
       "      <td>8</td>\n",
       "    </tr>\n",
       "    <tr>\n",
       "      <th>3</th>\n",
       "      <td>25-34</td>\n",
       "      <td>Single</td>\n",
       "      <td>75-99K</td>\n",
       "      <td>Homeowner</td>\n",
       "      <td>2 Adults Kids</td>\n",
       "      <td>4</td>\n",
       "      <td>2</td>\n",
       "      <td>13</td>\n",
       "    </tr>\n",
       "    <tr>\n",
       "      <th>4</th>\n",
       "      <td>45-54</td>\n",
       "      <td>Unknown</td>\n",
       "      <td>50-74K</td>\n",
       "      <td>Homeowner</td>\n",
       "      <td>Single Female</td>\n",
       "      <td>1</td>\n",
       "      <td>None/Unknown</td>\n",
       "      <td>16</td>\n",
       "    </tr>\n",
       "    <tr>\n",
       "      <th>...</th>\n",
       "      <td>...</td>\n",
       "      <td>...</td>\n",
       "      <td>...</td>\n",
       "      <td>...</td>\n",
       "      <td>...</td>\n",
       "      <td>...</td>\n",
       "      <td>...</td>\n",
       "      <td>...</td>\n",
       "    </tr>\n",
       "    <tr>\n",
       "      <th>796</th>\n",
       "      <td>35-44</td>\n",
       "      <td>Single</td>\n",
       "      <td>50-74K</td>\n",
       "      <td>Homeowner</td>\n",
       "      <td>2 Adults No Kids</td>\n",
       "      <td>2</td>\n",
       "      <td>None/Unknown</td>\n",
       "      <td>2494</td>\n",
       "    </tr>\n",
       "    <tr>\n",
       "      <th>797</th>\n",
       "      <td>45-54</td>\n",
       "      <td>Married</td>\n",
       "      <td>75-99K</td>\n",
       "      <td>Homeowner</td>\n",
       "      <td>Unknown</td>\n",
       "      <td>3</td>\n",
       "      <td>1</td>\n",
       "      <td>2496</td>\n",
       "    </tr>\n",
       "    <tr>\n",
       "      <th>798</th>\n",
       "      <td>45-54</td>\n",
       "      <td>Single</td>\n",
       "      <td>35-49K</td>\n",
       "      <td>Unknown</td>\n",
       "      <td>Single Male</td>\n",
       "      <td>1</td>\n",
       "      <td>None/Unknown</td>\n",
       "      <td>2497</td>\n",
       "    </tr>\n",
       "    <tr>\n",
       "      <th>799</th>\n",
       "      <td>25-34</td>\n",
       "      <td>Single</td>\n",
       "      <td>50-74K</td>\n",
       "      <td>Homeowner</td>\n",
       "      <td>2 Adults No Kids</td>\n",
       "      <td>2</td>\n",
       "      <td>None/Unknown</td>\n",
       "      <td>2498</td>\n",
       "    </tr>\n",
       "    <tr>\n",
       "      <th>800</th>\n",
       "      <td>25-34</td>\n",
       "      <td>Single</td>\n",
       "      <td>Under 15K</td>\n",
       "      <td>Unknown</td>\n",
       "      <td>2 Adults Kids</td>\n",
       "      <td>3</td>\n",
       "      <td>1</td>\n",
       "      <td>2499</td>\n",
       "    </tr>\n",
       "  </tbody>\n",
       "</table>\n",
       "<p>801 rows × 8 columns</p>\n",
       "</div>"
      ],
      "text/plain": [
       "    AGE_DESC MARITAL_STATUS_CODE INCOME_DESC HOMEOWNER_DESC      HH_COMP_DESC  \\\n",
       "0        65+             Married      35-49K      Homeowner  2 Adults No Kids   \n",
       "1      45-54             Married      50-74K      Homeowner  2 Adults No Kids   \n",
       "2      25-34              Single      25-34K        Unknown     2 Adults Kids   \n",
       "3      25-34              Single      75-99K      Homeowner     2 Adults Kids   \n",
       "4      45-54             Unknown      50-74K      Homeowner     Single Female   \n",
       "..       ...                 ...         ...            ...               ...   \n",
       "796    35-44              Single      50-74K      Homeowner  2 Adults No Kids   \n",
       "797    45-54             Married      75-99K      Homeowner           Unknown   \n",
       "798    45-54              Single      35-49K        Unknown       Single Male   \n",
       "799    25-34              Single      50-74K      Homeowner  2 Adults No Kids   \n",
       "800    25-34              Single   Under 15K        Unknown     2 Adults Kids   \n",
       "\n",
       "    HOUSEHOLD_SIZE_DESC KID_CATEGORY_DESC  household_key  \n",
       "0                     2      None/Unknown              1  \n",
       "1                     2      None/Unknown              7  \n",
       "2                     3                 1              8  \n",
       "3                     4                 2             13  \n",
       "4                     1      None/Unknown             16  \n",
       "..                  ...               ...            ...  \n",
       "796                   2      None/Unknown           2494  \n",
       "797                   3                 1           2496  \n",
       "798                   1      None/Unknown           2497  \n",
       "799                   2      None/Unknown           2498  \n",
       "800                   3                 1           2499  \n",
       "\n",
       "[801 rows x 8 columns]"
      ]
     },
     "execution_count": 2,
     "metadata": {},
     "output_type": "execute_result"
    }
   ],
   "source": [
    "df = dict()\n",
    "df[\"hh_demographic\"] = pd.read_csv(data_folder + \"hh_demographic.csv\")\n",
    "demographic=df[\"hh_demographic\"]\n",
    "demographic[\"MARITAL_STATUS_CODE\"].replace(['A', 'B', 'U'],['Married','Unknown','Single'],inplace=True)\n",
    "\n",
    "demographic"
   ]
  },
  {
   "cell_type": "markdown",
   "metadata": {
    "papermill": {
     "duration": 0.042612,
     "end_time": "2021-03-09T22:03:38.204744",
     "exception": false,
     "start_time": "2021-03-09T22:03:38.162132",
     "status": "completed"
    },
    "tags": []
   },
   "source": [
    "### Campaign data <a class=\"anchor\" id=\"section_1_2\"></a>\n",
    "The tables campaign_table and campaign_desc contains all the campaign information. As we want to predict the customers that won't redeem their coupons for the __next 5 planned campaigns__, we will create our model based on all the previous campaigns. \n",
    "We can see that the last five campaigns are campaigns number __21, 22, 23, 24 and 25__."
   ]
  },
  {
   "cell_type": "code",
   "execution_count": 3,
   "metadata": {
    "_kg_hide-input": true,
    "execution": {
     "iopub.execute_input": "2021-03-09T22:03:38.294551Z",
     "iopub.status.busy": "2021-03-09T22:03:38.293490Z",
     "iopub.status.idle": "2021-03-09T22:03:38.324605Z",
     "shell.execute_reply": "2021-03-09T22:03:38.325236Z"
    },
    "papermill": {
     "duration": 0.077633,
     "end_time": "2021-03-09T22:03:38.325405",
     "exception": false,
     "start_time": "2021-03-09T22:03:38.247772",
     "status": "completed"
    },
    "tags": []
   },
   "outputs": [
    {
     "data": {
      "text/html": [
       "<div>\n",
       "<style scoped>\n",
       "    .dataframe tbody tr th:only-of-type {\n",
       "        vertical-align: middle;\n",
       "    }\n",
       "\n",
       "    .dataframe tbody tr th {\n",
       "        vertical-align: top;\n",
       "    }\n",
       "\n",
       "    .dataframe thead th {\n",
       "        text-align: right;\n",
       "    }\n",
       "</style>\n",
       "<table border=\"1\" class=\"dataframe\">\n",
       "  <thead>\n",
       "    <tr style=\"text-align: right;\">\n",
       "      <th></th>\n",
       "      <th>DESCRIPTION</th>\n",
       "      <th>CAMPAIGN</th>\n",
       "      <th>START_DAY</th>\n",
       "      <th>END_DAY</th>\n",
       "    </tr>\n",
       "  </thead>\n",
       "  <tbody>\n",
       "    <tr>\n",
       "      <th>29</th>\n",
       "      <td>TypeA</td>\n",
       "      <td>26</td>\n",
       "      <td>224</td>\n",
       "      <td>264</td>\n",
       "    </tr>\n",
       "    <tr>\n",
       "      <th>28</th>\n",
       "      <td>TypeC</td>\n",
       "      <td>27</td>\n",
       "      <td>237</td>\n",
       "      <td>300</td>\n",
       "    </tr>\n",
       "    <tr>\n",
       "      <th>27</th>\n",
       "      <td>TypeB</td>\n",
       "      <td>28</td>\n",
       "      <td>259</td>\n",
       "      <td>320</td>\n",
       "    </tr>\n",
       "    <tr>\n",
       "      <th>26</th>\n",
       "      <td>TypeB</td>\n",
       "      <td>29</td>\n",
       "      <td>281</td>\n",
       "      <td>334</td>\n",
       "    </tr>\n",
       "    <tr>\n",
       "      <th>25</th>\n",
       "      <td>TypeA</td>\n",
       "      <td>30</td>\n",
       "      <td>323</td>\n",
       "      <td>369</td>\n",
       "    </tr>\n",
       "    <tr>\n",
       "      <th>23</th>\n",
       "      <td>TypeB</td>\n",
       "      <td>1</td>\n",
       "      <td>346</td>\n",
       "      <td>383</td>\n",
       "    </tr>\n",
       "    <tr>\n",
       "      <th>24</th>\n",
       "      <td>TypeB</td>\n",
       "      <td>2</td>\n",
       "      <td>351</td>\n",
       "      <td>383</td>\n",
       "    </tr>\n",
       "    <tr>\n",
       "      <th>20</th>\n",
       "      <td>TypeC</td>\n",
       "      <td>3</td>\n",
       "      <td>356</td>\n",
       "      <td>412</td>\n",
       "    </tr>\n",
       "    <tr>\n",
       "      <th>22</th>\n",
       "      <td>TypeB</td>\n",
       "      <td>4</td>\n",
       "      <td>372</td>\n",
       "      <td>404</td>\n",
       "    </tr>\n",
       "    <tr>\n",
       "      <th>21</th>\n",
       "      <td>TypeB</td>\n",
       "      <td>5</td>\n",
       "      <td>377</td>\n",
       "      <td>411</td>\n",
       "    </tr>\n",
       "    <tr>\n",
       "      <th>19</th>\n",
       "      <td>TypeC</td>\n",
       "      <td>6</td>\n",
       "      <td>393</td>\n",
       "      <td>425</td>\n",
       "    </tr>\n",
       "    <tr>\n",
       "      <th>18</th>\n",
       "      <td>TypeB</td>\n",
       "      <td>7</td>\n",
       "      <td>398</td>\n",
       "      <td>432</td>\n",
       "    </tr>\n",
       "    <tr>\n",
       "      <th>17</th>\n",
       "      <td>TypeA</td>\n",
       "      <td>8</td>\n",
       "      <td>412</td>\n",
       "      <td>460</td>\n",
       "    </tr>\n",
       "    <tr>\n",
       "      <th>16</th>\n",
       "      <td>TypeB</td>\n",
       "      <td>9</td>\n",
       "      <td>435</td>\n",
       "      <td>467</td>\n",
       "    </tr>\n",
       "    <tr>\n",
       "      <th>15</th>\n",
       "      <td>TypeB</td>\n",
       "      <td>10</td>\n",
       "      <td>463</td>\n",
       "      <td>495</td>\n",
       "    </tr>\n",
       "    <tr>\n",
       "      <th>13</th>\n",
       "      <td>TypeB</td>\n",
       "      <td>11</td>\n",
       "      <td>477</td>\n",
       "      <td>523</td>\n",
       "    </tr>\n",
       "    <tr>\n",
       "      <th>14</th>\n",
       "      <td>TypeB</td>\n",
       "      <td>12</td>\n",
       "      <td>477</td>\n",
       "      <td>509</td>\n",
       "    </tr>\n",
       "    <tr>\n",
       "      <th>12</th>\n",
       "      <td>TypeA</td>\n",
       "      <td>13</td>\n",
       "      <td>504</td>\n",
       "      <td>551</td>\n",
       "    </tr>\n",
       "    <tr>\n",
       "      <th>10</th>\n",
       "      <td>TypeC</td>\n",
       "      <td>14</td>\n",
       "      <td>531</td>\n",
       "      <td>596</td>\n",
       "    </tr>\n",
       "    <tr>\n",
       "      <th>1</th>\n",
       "      <td>TypeC</td>\n",
       "      <td>15</td>\n",
       "      <td>547</td>\n",
       "      <td>708</td>\n",
       "    </tr>\n",
       "    <tr>\n",
       "      <th>11</th>\n",
       "      <td>TypeB</td>\n",
       "      <td>16</td>\n",
       "      <td>561</td>\n",
       "      <td>593</td>\n",
       "    </tr>\n",
       "    <tr>\n",
       "      <th>9</th>\n",
       "      <td>TypeB</td>\n",
       "      <td>17</td>\n",
       "      <td>575</td>\n",
       "      <td>607</td>\n",
       "    </tr>\n",
       "    <tr>\n",
       "      <th>7</th>\n",
       "      <td>TypeA</td>\n",
       "      <td>18</td>\n",
       "      <td>587</td>\n",
       "      <td>642</td>\n",
       "    </tr>\n",
       "    <tr>\n",
       "      <th>8</th>\n",
       "      <td>TypeB</td>\n",
       "      <td>19</td>\n",
       "      <td>603</td>\n",
       "      <td>635</td>\n",
       "    </tr>\n",
       "    <tr>\n",
       "      <th>3</th>\n",
       "      <td>TypeC</td>\n",
       "      <td>20</td>\n",
       "      <td>615</td>\n",
       "      <td>685</td>\n",
       "    </tr>\n",
       "    <tr>\n",
       "      <th>5</th>\n",
       "      <td>TypeB</td>\n",
       "      <td>21</td>\n",
       "      <td>624</td>\n",
       "      <td>656</td>\n",
       "    </tr>\n",
       "    <tr>\n",
       "      <th>6</th>\n",
       "      <td>TypeB</td>\n",
       "      <td>22</td>\n",
       "      <td>624</td>\n",
       "      <td>656</td>\n",
       "    </tr>\n",
       "    <tr>\n",
       "      <th>4</th>\n",
       "      <td>TypeB</td>\n",
       "      <td>23</td>\n",
       "      <td>646</td>\n",
       "      <td>684</td>\n",
       "    </tr>\n",
       "    <tr>\n",
       "      <th>0</th>\n",
       "      <td>TypeB</td>\n",
       "      <td>24</td>\n",
       "      <td>659</td>\n",
       "      <td>719</td>\n",
       "    </tr>\n",
       "    <tr>\n",
       "      <th>2</th>\n",
       "      <td>TypeB</td>\n",
       "      <td>25</td>\n",
       "      <td>659</td>\n",
       "      <td>691</td>\n",
       "    </tr>\n",
       "  </tbody>\n",
       "</table>\n",
       "</div>"
      ],
      "text/plain": [
       "   DESCRIPTION  CAMPAIGN  START_DAY  END_DAY\n",
       "29       TypeA        26        224      264\n",
       "28       TypeC        27        237      300\n",
       "27       TypeB        28        259      320\n",
       "26       TypeB        29        281      334\n",
       "25       TypeA        30        323      369\n",
       "23       TypeB         1        346      383\n",
       "24       TypeB         2        351      383\n",
       "20       TypeC         3        356      412\n",
       "22       TypeB         4        372      404\n",
       "21       TypeB         5        377      411\n",
       "19       TypeC         6        393      425\n",
       "18       TypeB         7        398      432\n",
       "17       TypeA         8        412      460\n",
       "16       TypeB         9        435      467\n",
       "15       TypeB        10        463      495\n",
       "13       TypeB        11        477      523\n",
       "14       TypeB        12        477      509\n",
       "12       TypeA        13        504      551\n",
       "10       TypeC        14        531      596\n",
       "1        TypeC        15        547      708\n",
       "11       TypeB        16        561      593\n",
       "9        TypeB        17        575      607\n",
       "7        TypeA        18        587      642\n",
       "8        TypeB        19        603      635\n",
       "3        TypeC        20        615      685\n",
       "5        TypeB        21        624      656\n",
       "6        TypeB        22        624      656\n",
       "4        TypeB        23        646      684\n",
       "0        TypeB        24        659      719\n",
       "2        TypeB        25        659      691"
      ]
     },
     "execution_count": 3,
     "metadata": {},
     "output_type": "execute_result"
    }
   ],
   "source": [
    "df[\"campaign_desc\"] = pd.read_csv(data_folder+\"campaign_desc.csv\")\n",
    "campaign_desc=df[\"campaign_desc\"]\n",
    "#Sort campaign by start date\n",
    "campaign_desc=campaign_desc.sort_values(by=['START_DAY','CAMPAIGN'],ascending=True)\n",
    "campaign_desc"
   ]
  },
  {
   "cell_type": "code",
   "execution_count": 4,
   "metadata": {
    "execution": {
     "iopub.execute_input": "2021-03-09T22:03:38.420564Z",
     "iopub.status.busy": "2021-03-09T22:03:38.419583Z",
     "iopub.status.idle": "2021-03-09T22:03:38.422482Z",
     "shell.execute_reply": "2021-03-09T22:03:38.421938Z"
    },
    "papermill": {
     "duration": 0.052643,
     "end_time": "2021-03-09T22:03:38.422600",
     "exception": false,
     "start_time": "2021-03-09T22:03:38.369957",
     "status": "completed"
    },
    "tags": []
   },
   "outputs": [],
   "source": [
    "#We exclude the last five campaigns filtering on campaigns starting before days 615. we don't consider campaign 20\n",
    "campaign_desc = campaign_desc[campaign_desc['START_DAY']<615]"
   ]
  },
  {
   "cell_type": "markdown",
   "metadata": {
    "papermill": {
     "duration": 0.044068,
     "end_time": "2021-03-09T22:03:38.515324",
     "exception": false,
     "start_time": "2021-03-09T22:03:38.471256",
     "status": "completed"
    },
    "tags": []
   },
   "source": [
    "The table campaign_table tells us which customers received a specific campaign."
   ]
  },
  {
   "cell_type": "code",
   "execution_count": 5,
   "metadata": {
    "_kg_hide-input": true,
    "execution": {
     "iopub.execute_input": "2021-03-09T22:03:38.608995Z",
     "iopub.status.busy": "2021-03-09T22:03:38.608323Z",
     "iopub.status.idle": "2021-03-09T22:03:38.634662Z",
     "shell.execute_reply": "2021-03-09T22:03:38.633922Z"
    },
    "papermill": {
     "duration": 0.07616,
     "end_time": "2021-03-09T22:03:38.634781",
     "exception": false,
     "start_time": "2021-03-09T22:03:38.558621",
     "status": "completed"
    },
    "tags": []
   },
   "outputs": [
    {
     "data": {
      "text/html": [
       "<div>\n",
       "<style scoped>\n",
       "    .dataframe tbody tr th:only-of-type {\n",
       "        vertical-align: middle;\n",
       "    }\n",
       "\n",
       "    .dataframe tbody tr th {\n",
       "        vertical-align: top;\n",
       "    }\n",
       "\n",
       "    .dataframe thead th {\n",
       "        text-align: right;\n",
       "    }\n",
       "</style>\n",
       "<table border=\"1\" class=\"dataframe\">\n",
       "  <thead>\n",
       "    <tr style=\"text-align: right;\">\n",
       "      <th></th>\n",
       "      <th>DESCRIPTION</th>\n",
       "      <th>household_key</th>\n",
       "      <th>CAMPAIGN</th>\n",
       "    </tr>\n",
       "  </thead>\n",
       "  <tbody>\n",
       "    <tr>\n",
       "      <th>0</th>\n",
       "      <td>TypeA</td>\n",
       "      <td>17</td>\n",
       "      <td>26</td>\n",
       "    </tr>\n",
       "    <tr>\n",
       "      <th>1</th>\n",
       "      <td>TypeA</td>\n",
       "      <td>27</td>\n",
       "      <td>26</td>\n",
       "    </tr>\n",
       "    <tr>\n",
       "      <th>2</th>\n",
       "      <td>TypeA</td>\n",
       "      <td>212</td>\n",
       "      <td>26</td>\n",
       "    </tr>\n",
       "    <tr>\n",
       "      <th>3</th>\n",
       "      <td>TypeA</td>\n",
       "      <td>208</td>\n",
       "      <td>26</td>\n",
       "    </tr>\n",
       "    <tr>\n",
       "      <th>4</th>\n",
       "      <td>TypeA</td>\n",
       "      <td>192</td>\n",
       "      <td>26</td>\n",
       "    </tr>\n",
       "    <tr>\n",
       "      <th>5</th>\n",
       "      <td>TypeA</td>\n",
       "      <td>187</td>\n",
       "      <td>26</td>\n",
       "    </tr>\n",
       "    <tr>\n",
       "      <th>6</th>\n",
       "      <td>TypeA</td>\n",
       "      <td>183</td>\n",
       "      <td>26</td>\n",
       "    </tr>\n",
       "    <tr>\n",
       "      <th>7</th>\n",
       "      <td>TypeA</td>\n",
       "      <td>142</td>\n",
       "      <td>26</td>\n",
       "    </tr>\n",
       "    <tr>\n",
       "      <th>8</th>\n",
       "      <td>TypeA</td>\n",
       "      <td>140</td>\n",
       "      <td>26</td>\n",
       "    </tr>\n",
       "    <tr>\n",
       "      <th>9</th>\n",
       "      <td>TypeA</td>\n",
       "      <td>134</td>\n",
       "      <td>26</td>\n",
       "    </tr>\n",
       "  </tbody>\n",
       "</table>\n",
       "</div>"
      ],
      "text/plain": [
       "  DESCRIPTION  household_key  CAMPAIGN\n",
       "0       TypeA             17        26\n",
       "1       TypeA             27        26\n",
       "2       TypeA            212        26\n",
       "3       TypeA            208        26\n",
       "4       TypeA            192        26\n",
       "5       TypeA            187        26\n",
       "6       TypeA            183        26\n",
       "7       TypeA            142        26\n",
       "8       TypeA            140        26\n",
       "9       TypeA            134        26"
      ]
     },
     "execution_count": 5,
     "metadata": {},
     "output_type": "execute_result"
    }
   ],
   "source": [
    "df[\"campaign_table\"] = pd.read_csv(data_folder+\"campaign_table.csv\")\n",
    "campaign_table=df[\"campaign_table\"]\n",
    "campaign_table.head(10)"
   ]
  },
  {
   "cell_type": "markdown",
   "metadata": {
    "papermill": {
     "duration": 0.043756,
     "end_time": "2021-03-09T22:03:38.723580",
     "exception": false,
     "start_time": "2021-03-09T22:03:38.679824",
     "status": "completed"
    },
    "tags": []
   },
   "source": [
    "From this point we can merge the two campaign tables"
   ]
  },
  {
   "cell_type": "code",
   "execution_count": 6,
   "metadata": {
    "_kg_hide-input": true,
    "execution": {
     "iopub.execute_input": "2021-03-09T22:03:38.826889Z",
     "iopub.status.busy": "2021-03-09T22:03:38.825384Z",
     "iopub.status.idle": "2021-03-09T22:03:38.846289Z",
     "shell.execute_reply": "2021-03-09T22:03:38.845690Z"
    },
    "papermill": {
     "duration": 0.07731,
     "end_time": "2021-03-09T22:03:38.846417",
     "exception": false,
     "start_time": "2021-03-09T22:03:38.769107",
     "status": "completed"
    },
    "tags": []
   },
   "outputs": [
    {
     "data": {
      "text/html": [
       "<div>\n",
       "<style scoped>\n",
       "    .dataframe tbody tr th:only-of-type {\n",
       "        vertical-align: middle;\n",
       "    }\n",
       "\n",
       "    .dataframe tbody tr th {\n",
       "        vertical-align: top;\n",
       "    }\n",
       "\n",
       "    .dataframe thead th {\n",
       "        text-align: right;\n",
       "    }\n",
       "</style>\n",
       "<table border=\"1\" class=\"dataframe\">\n",
       "  <thead>\n",
       "    <tr style=\"text-align: right;\">\n",
       "      <th></th>\n",
       "      <th>household_key</th>\n",
       "      <th>#campaign</th>\n",
       "    </tr>\n",
       "  </thead>\n",
       "  <tbody>\n",
       "    <tr>\n",
       "      <th>0</th>\n",
       "      <td>17</td>\n",
       "      <td>5</td>\n",
       "    </tr>\n",
       "    <tr>\n",
       "      <th>1</th>\n",
       "      <td>27</td>\n",
       "      <td>7</td>\n",
       "    </tr>\n",
       "    <tr>\n",
       "      <th>2</th>\n",
       "      <td>212</td>\n",
       "      <td>5</td>\n",
       "    </tr>\n",
       "    <tr>\n",
       "      <th>3</th>\n",
       "      <td>208</td>\n",
       "      <td>7</td>\n",
       "    </tr>\n",
       "    <tr>\n",
       "      <th>4</th>\n",
       "      <td>192</td>\n",
       "      <td>3</td>\n",
       "    </tr>\n",
       "    <tr>\n",
       "      <th>...</th>\n",
       "      <td>...</td>\n",
       "      <td>...</td>\n",
       "    </tr>\n",
       "    <tr>\n",
       "      <th>6110</th>\n",
       "      <td>1744</td>\n",
       "      <td>1</td>\n",
       "    </tr>\n",
       "    <tr>\n",
       "      <th>6115</th>\n",
       "      <td>1594</td>\n",
       "      <td>1</td>\n",
       "    </tr>\n",
       "    <tr>\n",
       "      <th>6119</th>\n",
       "      <td>1479</td>\n",
       "      <td>1</td>\n",
       "    </tr>\n",
       "    <tr>\n",
       "      <th>6121</th>\n",
       "      <td>1447</td>\n",
       "      <td>1</td>\n",
       "    </tr>\n",
       "    <tr>\n",
       "      <th>6134</th>\n",
       "      <td>1223</td>\n",
       "      <td>1</td>\n",
       "    </tr>\n",
       "  </tbody>\n",
       "</table>\n",
       "<p>1564 rows × 2 columns</p>\n",
       "</div>"
      ],
      "text/plain": [
       "      household_key  #campaign\n",
       "0                17          5\n",
       "1                27          7\n",
       "2               212          5\n",
       "3               208          7\n",
       "4               192          3\n",
       "...             ...        ...\n",
       "6110           1744          1\n",
       "6115           1594          1\n",
       "6119           1479          1\n",
       "6121           1447          1\n",
       "6134           1223          1\n",
       "\n",
       "[1564 rows x 2 columns]"
      ]
     },
     "execution_count": 6,
     "metadata": {},
     "output_type": "execute_result"
    }
   ],
   "source": [
    "#We call campaign the new dataframe merging the dataset\n",
    "campaign = pd.merge(campaign_desc[['CAMPAIGN','START_DAY']],campaign_table[['household_key','CAMPAIGN']],on=\"CAMPAIGN\",how=\"left\")\n",
    "#Count number of campaign per household\n",
    "campaign['#campaign']=campaign.groupby(by='household_key')['CAMPAIGN'].transform('count')\n",
    "#Delete useless column\n",
    "campaign=campaign.drop(columns=['CAMPAIGN','START_DAY'])\n",
    "#Delete duplicates\n",
    "campaign.drop_duplicates(subset=['household_key', '#campaign'], keep=\"first\", inplace=True)\n",
    "campaign"
   ]
  },
  {
   "cell_type": "markdown",
   "metadata": {
    "papermill": {
     "duration": 0.044353,
     "end_time": "2021-03-09T22:03:38.937058",
     "exception": false,
     "start_time": "2021-03-09T22:03:38.892705",
     "status": "completed"
    },
    "tags": []
   },
   "source": [
    "### Coupon redemption data <a class=\"anchor\" id=\"section_1_3\"></a>\n",
    "This table contains all the coupons that have been redeemed by each customer. We will use it to count how many coupons a customer redeemed for each campaign.<br>\n",
    "We will follow the below steps :\n",
    "- Loading the dataset\n",
    "- Retrieving coupons redeemed before Day 615\n",
    "- Count the number of campaign for which at least one coupon has been redeemed\n",
    "- Merge our campaign table, coupon redemption table and demographic table\n",
    "- Define if a customer is sensitive to coupon or not"
   ]
  },
  {
   "cell_type": "code",
   "execution_count": 7,
   "metadata": {
    "_kg_hide-input": true,
    "execution": {
     "iopub.execute_input": "2021-03-09T22:03:39.034904Z",
     "iopub.status.busy": "2021-03-09T22:03:39.034190Z",
     "iopub.status.idle": "2021-03-09T22:03:39.097246Z",
     "shell.execute_reply": "2021-03-09T22:03:39.096612Z"
    },
    "papermill": {
     "duration": 0.116385,
     "end_time": "2021-03-09T22:03:39.097369",
     "exception": false,
     "start_time": "2021-03-09T22:03:38.980984",
     "status": "completed"
    },
    "tags": []
   },
   "outputs": [
    {
     "data": {
      "text/html": [
       "<div>\n",
       "<style scoped>\n",
       "    .dataframe tbody tr th:only-of-type {\n",
       "        vertical-align: middle;\n",
       "    }\n",
       "\n",
       "    .dataframe tbody tr th {\n",
       "        vertical-align: top;\n",
       "    }\n",
       "\n",
       "    .dataframe thead th {\n",
       "        text-align: right;\n",
       "    }\n",
       "</style>\n",
       "<table border=\"1\" class=\"dataframe\">\n",
       "  <thead>\n",
       "    <tr style=\"text-align: right;\">\n",
       "      <th></th>\n",
       "      <th>household_key</th>\n",
       "      <th>redeemed</th>\n",
       "    </tr>\n",
       "  </thead>\n",
       "  <tbody>\n",
       "    <tr>\n",
       "      <th>0</th>\n",
       "      <td>1</td>\n",
       "      <td>2</td>\n",
       "    </tr>\n",
       "    <tr>\n",
       "      <th>1</th>\n",
       "      <td>8</td>\n",
       "      <td>1</td>\n",
       "    </tr>\n",
       "    <tr>\n",
       "      <th>2</th>\n",
       "      <td>13</td>\n",
       "      <td>6</td>\n",
       "    </tr>\n",
       "    <tr>\n",
       "      <th>3</th>\n",
       "      <td>14</td>\n",
       "      <td>1</td>\n",
       "    </tr>\n",
       "    <tr>\n",
       "      <th>4</th>\n",
       "      <td>18</td>\n",
       "      <td>3</td>\n",
       "    </tr>\n",
       "    <tr>\n",
       "      <th>...</th>\n",
       "      <td>...</td>\n",
       "      <td>...</td>\n",
       "    </tr>\n",
       "    <tr>\n",
       "      <th>392</th>\n",
       "      <td>2481</td>\n",
       "      <td>2</td>\n",
       "    </tr>\n",
       "    <tr>\n",
       "      <th>393</th>\n",
       "      <td>2488</td>\n",
       "      <td>4</td>\n",
       "    </tr>\n",
       "    <tr>\n",
       "      <th>394</th>\n",
       "      <td>2489</td>\n",
       "      <td>5</td>\n",
       "    </tr>\n",
       "    <tr>\n",
       "      <th>395</th>\n",
       "      <td>2496</td>\n",
       "      <td>3</td>\n",
       "    </tr>\n",
       "    <tr>\n",
       "      <th>396</th>\n",
       "      <td>2500</td>\n",
       "      <td>1</td>\n",
       "    </tr>\n",
       "  </tbody>\n",
       "</table>\n",
       "<p>397 rows × 2 columns</p>\n",
       "</div>"
      ],
      "text/plain": [
       "     household_key  redeemed\n",
       "0                1         2\n",
       "1                8         1\n",
       "2               13         6\n",
       "3               14         1\n",
       "4               18         3\n",
       "..             ...       ...\n",
       "392           2481         2\n",
       "393           2488         4\n",
       "394           2489         5\n",
       "395           2496         3\n",
       "396           2500         1\n",
       "\n",
       "[397 rows x 2 columns]"
      ]
     },
     "execution_count": 7,
     "metadata": {},
     "output_type": "execute_result"
    }
   ],
   "source": [
    "#Read the coupon_redempt table\n",
    "df[\"coupon_redempt\"] = pd.read_csv(data_folder+\"coupon_redempt.csv\")\n",
    "coupon_redempt=df[\"coupon_redempt\"]\n",
    "#Keep only coupon redeemed before DAY 615\n",
    "coupon_redempt=coupon_redempt[coupon_redempt['DAY']<615]\n",
    "#Drop useless columns\n",
    "coupon_redempt=coupon_redempt.drop(columns=['DAY','COUPON_UPC'])\n",
    "#Keep only one occurence of coupon redeemed by campaign\n",
    "coupon_redempt.drop_duplicates(subset=['household_key', 'CAMPAIGN'], keep=\"first\", inplace=True)\n",
    "#Count number of campaign the customer redeemed at least one coupon\n",
    "redemption_per_household=coupon_redempt.groupby(['household_key'], as_index=False)['CAMPAIGN'].agg({'redeemed': pd.Series.nunique})\n",
    "redemption_per_household"
   ]
  },
  {
   "cell_type": "code",
   "execution_count": 8,
   "metadata": {
    "_kg_hide-input": true,
    "execution": {
     "iopub.execute_input": "2021-03-09T22:03:39.197782Z",
     "iopub.status.busy": "2021-03-09T22:03:39.197128Z",
     "iopub.status.idle": "2021-03-09T22:03:39.208654Z",
     "shell.execute_reply": "2021-03-09T22:03:39.208088Z"
    },
    "papermill": {
     "duration": 0.065608,
     "end_time": "2021-03-09T22:03:39.208773",
     "exception": false,
     "start_time": "2021-03-09T22:03:39.143165",
     "status": "completed"
    },
    "tags": []
   },
   "outputs": [],
   "source": [
    "#Merging of campaign and coupon redemption tables\n",
    "temp = pd.merge(campaign, redemption_per_household, on=['household_key'],how=\"left\")\n",
    "#Creation of our output variable\n",
    "temp[\"Sensitivity\"]= np.where(temp[\"redeemed\"]>0, 'Sensible', 'Not sensible')\n",
    "#Creation of our aggregated dataset. We use the inner join to keep only customers for which we have the demographics data and thoose who were part of at least one campaign\n",
    "dataset= pd.merge(demographic, temp[['household_key','Sensitivity']], on=['household_key'],how=\"inner\")"
   ]
  },
  {
   "cell_type": "markdown",
   "metadata": {
    "papermill": {
     "duration": 0.046526,
     "end_time": "2021-03-09T22:03:39.300995",
     "exception": false,
     "start_time": "2021-03-09T22:03:39.254469",
     "status": "completed"
    },
    "tags": []
   },
   "source": [
    "### Transactions data <a class=\"anchor\" id=\"section_1_4\"></a>\n",
    "This table contains all the transactions made by customers during 2 years. it contains 12 columns and 2 595 732 rows.\n",
    "We will use the transactional dataset to create some features for our model :\n",
    "- Total sales between day 1 and day 615\n",
    "- Total number of visits in the shops\n",
    "- Median basket spend by customer\n",
    "- Average product price purchased by customer\n",
    "\n",
    "To clean the dataset, we will follow the below steps :\n",
    "- Load the data\n",
    "- Keep sales before day 615\n",
    "- Exclude transaction with sales value and quantity inferior or equal to 0"
   ]
  },
  {
   "cell_type": "code",
   "execution_count": 9,
   "metadata": {
    "_kg_hide-input": true,
    "execution": {
     "iopub.execute_input": "2021-03-09T22:03:39.401355Z",
     "iopub.status.busy": "2021-03-09T22:03:39.400587Z",
     "iopub.status.idle": "2021-03-09T22:03:44.440346Z",
     "shell.execute_reply": "2021-03-09T22:03:44.439767Z"
    },
    "papermill": {
     "duration": 5.093091,
     "end_time": "2021-03-09T22:03:44.440493",
     "exception": false,
     "start_time": "2021-03-09T22:03:39.347402",
     "status": "completed"
    },
    "tags": []
   },
   "outputs": [
    {
     "data": {
      "text/html": [
       "<div>\n",
       "<style scoped>\n",
       "    .dataframe tbody tr th:only-of-type {\n",
       "        vertical-align: middle;\n",
       "    }\n",
       "\n",
       "    .dataframe tbody tr th {\n",
       "        vertical-align: top;\n",
       "    }\n",
       "\n",
       "    .dataframe thead th {\n",
       "        text-align: right;\n",
       "    }\n",
       "</style>\n",
       "<table border=\"1\" class=\"dataframe\">\n",
       "  <thead>\n",
       "    <tr style=\"text-align: right;\">\n",
       "      <th></th>\n",
       "      <th>household_key</th>\n",
       "      <th>BASKET_ID</th>\n",
       "      <th>DAY</th>\n",
       "      <th>PRODUCT_ID</th>\n",
       "      <th>QUANTITY</th>\n",
       "      <th>SALES_VALUE</th>\n",
       "      <th>STORE_ID</th>\n",
       "      <th>RETAIL_DISC</th>\n",
       "      <th>TRANS_TIME</th>\n",
       "      <th>WEEK_NO</th>\n",
       "      <th>COUPON_DISC</th>\n",
       "      <th>COUPON_MATCH_DISC</th>\n",
       "    </tr>\n",
       "  </thead>\n",
       "  <tbody>\n",
       "    <tr>\n",
       "      <th>0</th>\n",
       "      <td>2375</td>\n",
       "      <td>26984851472</td>\n",
       "      <td>1</td>\n",
       "      <td>1004906</td>\n",
       "      <td>1</td>\n",
       "      <td>1.39</td>\n",
       "      <td>364</td>\n",
       "      <td>-0.60</td>\n",
       "      <td>1631</td>\n",
       "      <td>1</td>\n",
       "      <td>0.0</td>\n",
       "      <td>0.0</td>\n",
       "    </tr>\n",
       "    <tr>\n",
       "      <th>1</th>\n",
       "      <td>2375</td>\n",
       "      <td>26984851472</td>\n",
       "      <td>1</td>\n",
       "      <td>1033142</td>\n",
       "      <td>1</td>\n",
       "      <td>0.82</td>\n",
       "      <td>364</td>\n",
       "      <td>0.00</td>\n",
       "      <td>1631</td>\n",
       "      <td>1</td>\n",
       "      <td>0.0</td>\n",
       "      <td>0.0</td>\n",
       "    </tr>\n",
       "    <tr>\n",
       "      <th>2</th>\n",
       "      <td>2375</td>\n",
       "      <td>26984851472</td>\n",
       "      <td>1</td>\n",
       "      <td>1036325</td>\n",
       "      <td>1</td>\n",
       "      <td>0.99</td>\n",
       "      <td>364</td>\n",
       "      <td>-0.30</td>\n",
       "      <td>1631</td>\n",
       "      <td>1</td>\n",
       "      <td>0.0</td>\n",
       "      <td>0.0</td>\n",
       "    </tr>\n",
       "    <tr>\n",
       "      <th>3</th>\n",
       "      <td>2375</td>\n",
       "      <td>26984851472</td>\n",
       "      <td>1</td>\n",
       "      <td>1082185</td>\n",
       "      <td>1</td>\n",
       "      <td>1.21</td>\n",
       "      <td>364</td>\n",
       "      <td>0.00</td>\n",
       "      <td>1631</td>\n",
       "      <td>1</td>\n",
       "      <td>0.0</td>\n",
       "      <td>0.0</td>\n",
       "    </tr>\n",
       "    <tr>\n",
       "      <th>4</th>\n",
       "      <td>2375</td>\n",
       "      <td>26984851472</td>\n",
       "      <td>1</td>\n",
       "      <td>8160430</td>\n",
       "      <td>1</td>\n",
       "      <td>1.50</td>\n",
       "      <td>364</td>\n",
       "      <td>-0.39</td>\n",
       "      <td>1631</td>\n",
       "      <td>1</td>\n",
       "      <td>0.0</td>\n",
       "      <td>0.0</td>\n",
       "    </tr>\n",
       "    <tr>\n",
       "      <th>5</th>\n",
       "      <td>2375</td>\n",
       "      <td>26984851516</td>\n",
       "      <td>1</td>\n",
       "      <td>826249</td>\n",
       "      <td>2</td>\n",
       "      <td>1.98</td>\n",
       "      <td>364</td>\n",
       "      <td>-0.60</td>\n",
       "      <td>1642</td>\n",
       "      <td>1</td>\n",
       "      <td>0.0</td>\n",
       "      <td>0.0</td>\n",
       "    </tr>\n",
       "    <tr>\n",
       "      <th>6</th>\n",
       "      <td>2375</td>\n",
       "      <td>26984851516</td>\n",
       "      <td>1</td>\n",
       "      <td>1043142</td>\n",
       "      <td>1</td>\n",
       "      <td>1.57</td>\n",
       "      <td>364</td>\n",
       "      <td>-0.68</td>\n",
       "      <td>1642</td>\n",
       "      <td>1</td>\n",
       "      <td>0.0</td>\n",
       "      <td>0.0</td>\n",
       "    </tr>\n",
       "    <tr>\n",
       "      <th>7</th>\n",
       "      <td>2375</td>\n",
       "      <td>26984851516</td>\n",
       "      <td>1</td>\n",
       "      <td>1085983</td>\n",
       "      <td>1</td>\n",
       "      <td>2.99</td>\n",
       "      <td>364</td>\n",
       "      <td>-0.40</td>\n",
       "      <td>1642</td>\n",
       "      <td>1</td>\n",
       "      <td>0.0</td>\n",
       "      <td>0.0</td>\n",
       "    </tr>\n",
       "    <tr>\n",
       "      <th>8</th>\n",
       "      <td>2375</td>\n",
       "      <td>26984851516</td>\n",
       "      <td>1</td>\n",
       "      <td>1102651</td>\n",
       "      <td>1</td>\n",
       "      <td>1.89</td>\n",
       "      <td>364</td>\n",
       "      <td>0.00</td>\n",
       "      <td>1642</td>\n",
       "      <td>1</td>\n",
       "      <td>0.0</td>\n",
       "      <td>0.0</td>\n",
       "    </tr>\n",
       "    <tr>\n",
       "      <th>9</th>\n",
       "      <td>2375</td>\n",
       "      <td>26984851516</td>\n",
       "      <td>1</td>\n",
       "      <td>6423775</td>\n",
       "      <td>1</td>\n",
       "      <td>2.00</td>\n",
       "      <td>364</td>\n",
       "      <td>-0.79</td>\n",
       "      <td>1642</td>\n",
       "      <td>1</td>\n",
       "      <td>0.0</td>\n",
       "      <td>0.0</td>\n",
       "    </tr>\n",
       "    <tr>\n",
       "      <th>10</th>\n",
       "      <td>2375</td>\n",
       "      <td>26984851516</td>\n",
       "      <td>1</td>\n",
       "      <td>9487839</td>\n",
       "      <td>1</td>\n",
       "      <td>2.00</td>\n",
       "      <td>364</td>\n",
       "      <td>-0.79</td>\n",
       "      <td>1642</td>\n",
       "      <td>1</td>\n",
       "      <td>0.0</td>\n",
       "      <td>0.0</td>\n",
       "    </tr>\n",
       "    <tr>\n",
       "      <th>11</th>\n",
       "      <td>1364</td>\n",
       "      <td>26984896261</td>\n",
       "      <td>1</td>\n",
       "      <td>842930</td>\n",
       "      <td>1</td>\n",
       "      <td>2.19</td>\n",
       "      <td>31742</td>\n",
       "      <td>0.00</td>\n",
       "      <td>1520</td>\n",
       "      <td>1</td>\n",
       "      <td>0.0</td>\n",
       "      <td>0.0</td>\n",
       "    </tr>\n",
       "    <tr>\n",
       "      <th>12</th>\n",
       "      <td>1364</td>\n",
       "      <td>26984896261</td>\n",
       "      <td>1</td>\n",
       "      <td>897044</td>\n",
       "      <td>1</td>\n",
       "      <td>2.99</td>\n",
       "      <td>31742</td>\n",
       "      <td>-0.40</td>\n",
       "      <td>1520</td>\n",
       "      <td>1</td>\n",
       "      <td>0.0</td>\n",
       "      <td>0.0</td>\n",
       "    </tr>\n",
       "    <tr>\n",
       "      <th>13</th>\n",
       "      <td>1364</td>\n",
       "      <td>26984896261</td>\n",
       "      <td>1</td>\n",
       "      <td>920955</td>\n",
       "      <td>1</td>\n",
       "      <td>3.09</td>\n",
       "      <td>31742</td>\n",
       "      <td>0.00</td>\n",
       "      <td>1520</td>\n",
       "      <td>1</td>\n",
       "      <td>0.0</td>\n",
       "      <td>0.0</td>\n",
       "    </tr>\n",
       "    <tr>\n",
       "      <th>14</th>\n",
       "      <td>1364</td>\n",
       "      <td>26984896261</td>\n",
       "      <td>1</td>\n",
       "      <td>937406</td>\n",
       "      <td>1</td>\n",
       "      <td>2.50</td>\n",
       "      <td>31742</td>\n",
       "      <td>-0.99</td>\n",
       "      <td>1520</td>\n",
       "      <td>1</td>\n",
       "      <td>0.0</td>\n",
       "      <td>0.0</td>\n",
       "    </tr>\n",
       "    <tr>\n",
       "      <th>15</th>\n",
       "      <td>1364</td>\n",
       "      <td>26984896261</td>\n",
       "      <td>1</td>\n",
       "      <td>981760</td>\n",
       "      <td>1</td>\n",
       "      <td>0.60</td>\n",
       "      <td>31742</td>\n",
       "      <td>-0.79</td>\n",
       "      <td>1520</td>\n",
       "      <td>1</td>\n",
       "      <td>0.0</td>\n",
       "      <td>0.0</td>\n",
       "    </tr>\n",
       "    <tr>\n",
       "      <th>16</th>\n",
       "      <td>1130</td>\n",
       "      <td>26984905972</td>\n",
       "      <td>1</td>\n",
       "      <td>833715</td>\n",
       "      <td>2</td>\n",
       "      <td>0.34</td>\n",
       "      <td>31642</td>\n",
       "      <td>-0.32</td>\n",
       "      <td>1340</td>\n",
       "      <td>1</td>\n",
       "      <td>0.0</td>\n",
       "      <td>0.0</td>\n",
       "    </tr>\n",
       "    <tr>\n",
       "      <th>17</th>\n",
       "      <td>1130</td>\n",
       "      <td>26984905972</td>\n",
       "      <td>1</td>\n",
       "      <td>866950</td>\n",
       "      <td>2</td>\n",
       "      <td>0.34</td>\n",
       "      <td>31642</td>\n",
       "      <td>-0.32</td>\n",
       "      <td>1340</td>\n",
       "      <td>1</td>\n",
       "      <td>0.0</td>\n",
       "      <td>0.0</td>\n",
       "    </tr>\n",
       "    <tr>\n",
       "      <th>18</th>\n",
       "      <td>1130</td>\n",
       "      <td>26984905972</td>\n",
       "      <td>1</td>\n",
       "      <td>1022843</td>\n",
       "      <td>2</td>\n",
       "      <td>0.34</td>\n",
       "      <td>31642</td>\n",
       "      <td>-0.32</td>\n",
       "      <td>1340</td>\n",
       "      <td>1</td>\n",
       "      <td>0.0</td>\n",
       "      <td>0.0</td>\n",
       "    </tr>\n",
       "    <tr>\n",
       "      <th>19</th>\n",
       "      <td>1130</td>\n",
       "      <td>26984905972</td>\n",
       "      <td>1</td>\n",
       "      <td>1048462</td>\n",
       "      <td>1</td>\n",
       "      <td>1.19</td>\n",
       "      <td>31642</td>\n",
       "      <td>-0.80</td>\n",
       "      <td>1340</td>\n",
       "      <td>1</td>\n",
       "      <td>0.0</td>\n",
       "      <td>0.0</td>\n",
       "    </tr>\n",
       "  </tbody>\n",
       "</table>\n",
       "</div>"
      ],
      "text/plain": [
       "    household_key    BASKET_ID  DAY  PRODUCT_ID  QUANTITY  SALES_VALUE  \\\n",
       "0            2375  26984851472    1     1004906         1         1.39   \n",
       "1            2375  26984851472    1     1033142         1         0.82   \n",
       "2            2375  26984851472    1     1036325         1         0.99   \n",
       "3            2375  26984851472    1     1082185         1         1.21   \n",
       "4            2375  26984851472    1     8160430         1         1.50   \n",
       "5            2375  26984851516    1      826249         2         1.98   \n",
       "6            2375  26984851516    1     1043142         1         1.57   \n",
       "7            2375  26984851516    1     1085983         1         2.99   \n",
       "8            2375  26984851516    1     1102651         1         1.89   \n",
       "9            2375  26984851516    1     6423775         1         2.00   \n",
       "10           2375  26984851516    1     9487839         1         2.00   \n",
       "11           1364  26984896261    1      842930         1         2.19   \n",
       "12           1364  26984896261    1      897044         1         2.99   \n",
       "13           1364  26984896261    1      920955         1         3.09   \n",
       "14           1364  26984896261    1      937406         1         2.50   \n",
       "15           1364  26984896261    1      981760         1         0.60   \n",
       "16           1130  26984905972    1      833715         2         0.34   \n",
       "17           1130  26984905972    1      866950         2         0.34   \n",
       "18           1130  26984905972    1     1022843         2         0.34   \n",
       "19           1130  26984905972    1     1048462         1         1.19   \n",
       "\n",
       "    STORE_ID  RETAIL_DISC  TRANS_TIME  WEEK_NO  COUPON_DISC  COUPON_MATCH_DISC  \n",
       "0        364        -0.60        1631        1          0.0                0.0  \n",
       "1        364         0.00        1631        1          0.0                0.0  \n",
       "2        364        -0.30        1631        1          0.0                0.0  \n",
       "3        364         0.00        1631        1          0.0                0.0  \n",
       "4        364        -0.39        1631        1          0.0                0.0  \n",
       "5        364        -0.60        1642        1          0.0                0.0  \n",
       "6        364        -0.68        1642        1          0.0                0.0  \n",
       "7        364        -0.40        1642        1          0.0                0.0  \n",
       "8        364         0.00        1642        1          0.0                0.0  \n",
       "9        364        -0.79        1642        1          0.0                0.0  \n",
       "10       364        -0.79        1642        1          0.0                0.0  \n",
       "11     31742         0.00        1520        1          0.0                0.0  \n",
       "12     31742        -0.40        1520        1          0.0                0.0  \n",
       "13     31742         0.00        1520        1          0.0                0.0  \n",
       "14     31742        -0.99        1520        1          0.0                0.0  \n",
       "15     31742        -0.79        1520        1          0.0                0.0  \n",
       "16     31642        -0.32        1340        1          0.0                0.0  \n",
       "17     31642        -0.32        1340        1          0.0                0.0  \n",
       "18     31642        -0.32        1340        1          0.0                0.0  \n",
       "19     31642        -0.80        1340        1          0.0                0.0  "
      ]
     },
     "execution_count": 9,
     "metadata": {},
     "output_type": "execute_result"
    }
   ],
   "source": [
    "# load the dataset\n",
    "df[\"transaction_data\"] = pd.read_csv(data_folder+\"transaction_data.csv\")\n",
    "transaction=df[\"transaction_data\"]\n",
    "#Keep transaction before day 615\n",
    "transaction=transaction[transaction['DAY']<615]\n",
    "#Exclude transactions related to returns\n",
    "transaction=transaction[transaction['SALES_VALUE']>0]\n",
    "transaction=transaction[transaction['QUANTITY']>0]\n",
    "transaction.head(20)"
   ]
  },
  {
   "cell_type": "markdown",
   "metadata": {
    "papermill": {
     "duration": 0.046623,
     "end_time": "2021-03-09T22:03:44.533421",
     "exception": false,
     "start_time": "2021-03-09T22:03:44.486798",
     "status": "completed"
    },
    "tags": []
   },
   "source": [
    "__Feature creation and table merging__"
   ]
  },
  {
   "cell_type": "code",
   "execution_count": 10,
   "metadata": {
    "_kg_hide-input": true,
    "execution": {
     "iopub.execute_input": "2021-03-09T22:03:44.642026Z",
     "iopub.status.busy": "2021-03-09T22:03:44.641293Z",
     "iopub.status.idle": "2021-03-09T22:03:45.241336Z",
     "shell.execute_reply": "2021-03-09T22:03:45.241758Z"
    },
    "papermill": {
     "duration": 0.662373,
     "end_time": "2021-03-09T22:03:45.241904",
     "exception": false,
     "start_time": "2021-03-09T22:03:44.579531",
     "status": "completed"
    },
    "tags": []
   },
   "outputs": [
    {
     "data": {
      "text/html": [
       "<div>\n",
       "<style scoped>\n",
       "    .dataframe tbody tr th:only-of-type {\n",
       "        vertical-align: middle;\n",
       "    }\n",
       "\n",
       "    .dataframe tbody tr th {\n",
       "        vertical-align: top;\n",
       "    }\n",
       "\n",
       "    .dataframe thead th {\n",
       "        text-align: right;\n",
       "    }\n",
       "</style>\n",
       "<table border=\"1\" class=\"dataframe\">\n",
       "  <thead>\n",
       "    <tr style=\"text-align: right;\">\n",
       "      <th></th>\n",
       "      <th>AGE_DESC</th>\n",
       "      <th>MARITAL_STATUS_CODE</th>\n",
       "      <th>INCOME_DESC</th>\n",
       "      <th>HOMEOWNER_DESC</th>\n",
       "      <th>HH_COMP_DESC</th>\n",
       "      <th>HOUSEHOLD_SIZE_DESC</th>\n",
       "      <th>KID_CATEGORY_DESC</th>\n",
       "      <th>Sensitivity</th>\n",
       "      <th>Total_sales</th>\n",
       "      <th>total_visits</th>\n",
       "      <th>median_basket</th>\n",
       "      <th>avg_price</th>\n",
       "    </tr>\n",
       "  </thead>\n",
       "  <tbody>\n",
       "    <tr>\n",
       "      <th>0</th>\n",
       "      <td>65+</td>\n",
       "      <td>Married</td>\n",
       "      <td>35-49K</td>\n",
       "      <td>Homeowner</td>\n",
       "      <td>2 Adults No Kids</td>\n",
       "      <td>2</td>\n",
       "      <td>None/Unknown</td>\n",
       "      <td>Sensible</td>\n",
       "      <td>3612.54</td>\n",
       "      <td>71</td>\n",
       "      <td>48.500</td>\n",
       "      <td>2.526252</td>\n",
       "    </tr>\n",
       "    <tr>\n",
       "      <th>1</th>\n",
       "      <td>45-54</td>\n",
       "      <td>Married</td>\n",
       "      <td>50-74K</td>\n",
       "      <td>Homeowner</td>\n",
       "      <td>2 Adults No Kids</td>\n",
       "      <td>2</td>\n",
       "      <td>None/Unknown</td>\n",
       "      <td>Not sensible</td>\n",
       "      <td>2420.12</td>\n",
       "      <td>42</td>\n",
       "      <td>44.320</td>\n",
       "      <td>2.713139</td>\n",
       "    </tr>\n",
       "    <tr>\n",
       "      <th>2</th>\n",
       "      <td>25-34</td>\n",
       "      <td>Single</td>\n",
       "      <td>25-34K</td>\n",
       "      <td>Unknown</td>\n",
       "      <td>2 Adults Kids</td>\n",
       "      <td>3</td>\n",
       "      <td>1</td>\n",
       "      <td>Sensible</td>\n",
       "      <td>4387.35</td>\n",
       "      <td>96</td>\n",
       "      <td>34.090</td>\n",
       "      <td>2.875066</td>\n",
       "    </tr>\n",
       "    <tr>\n",
       "      <th>3</th>\n",
       "      <td>25-34</td>\n",
       "      <td>Single</td>\n",
       "      <td>75-99K</td>\n",
       "      <td>Homeowner</td>\n",
       "      <td>2 Adults Kids</td>\n",
       "      <td>4</td>\n",
       "      <td>2</td>\n",
       "      <td>Sensible</td>\n",
       "      <td>10864.94</td>\n",
       "      <td>224</td>\n",
       "      <td>40.000</td>\n",
       "      <td>5.742569</td>\n",
       "    </tr>\n",
       "    <tr>\n",
       "      <th>4</th>\n",
       "      <td>45-54</td>\n",
       "      <td>Unknown</td>\n",
       "      <td>50-74K</td>\n",
       "      <td>Homeowner</td>\n",
       "      <td>Single Female</td>\n",
       "      <td>1</td>\n",
       "      <td>None/Unknown</td>\n",
       "      <td>Not sensible</td>\n",
       "      <td>1486.02</td>\n",
       "      <td>93</td>\n",
       "      <td>13.730</td>\n",
       "      <td>2.936798</td>\n",
       "    </tr>\n",
       "    <tr>\n",
       "      <th>...</th>\n",
       "      <td>...</td>\n",
       "      <td>...</td>\n",
       "      <td>...</td>\n",
       "      <td>...</td>\n",
       "      <td>...</td>\n",
       "      <td>...</td>\n",
       "      <td>...</td>\n",
       "      <td>...</td>\n",
       "      <td>...</td>\n",
       "      <td>...</td>\n",
       "      <td>...</td>\n",
       "      <td>...</td>\n",
       "    </tr>\n",
       "    <tr>\n",
       "      <th>746</th>\n",
       "      <td>35-44</td>\n",
       "      <td>Single</td>\n",
       "      <td>50-74K</td>\n",
       "      <td>Homeowner</td>\n",
       "      <td>2 Adults No Kids</td>\n",
       "      <td>2</td>\n",
       "      <td>None/Unknown</td>\n",
       "      <td>Not sensible</td>\n",
       "      <td>1569.24</td>\n",
       "      <td>27</td>\n",
       "      <td>51.240</td>\n",
       "      <td>3.666449</td>\n",
       "    </tr>\n",
       "    <tr>\n",
       "      <th>747</th>\n",
       "      <td>45-54</td>\n",
       "      <td>Married</td>\n",
       "      <td>75-99K</td>\n",
       "      <td>Homeowner</td>\n",
       "      <td>Unknown</td>\n",
       "      <td>3</td>\n",
       "      <td>1</td>\n",
       "      <td>Sensible</td>\n",
       "      <td>3898.51</td>\n",
       "      <td>56</td>\n",
       "      <td>72.095</td>\n",
       "      <td>2.935625</td>\n",
       "    </tr>\n",
       "    <tr>\n",
       "      <th>748</th>\n",
       "      <td>45-54</td>\n",
       "      <td>Single</td>\n",
       "      <td>35-49K</td>\n",
       "      <td>Unknown</td>\n",
       "      <td>Single Male</td>\n",
       "      <td>1</td>\n",
       "      <td>None/Unknown</td>\n",
       "      <td>Not sensible</td>\n",
       "      <td>5947.91</td>\n",
       "      <td>190</td>\n",
       "      <td>17.130</td>\n",
       "      <td>3.474246</td>\n",
       "    </tr>\n",
       "    <tr>\n",
       "      <th>749</th>\n",
       "      <td>25-34</td>\n",
       "      <td>Single</td>\n",
       "      <td>50-74K</td>\n",
       "      <td>Homeowner</td>\n",
       "      <td>2 Adults No Kids</td>\n",
       "      <td>2</td>\n",
       "      <td>None/Unknown</td>\n",
       "      <td>Not sensible</td>\n",
       "      <td>2348.11</td>\n",
       "      <td>145</td>\n",
       "      <td>9.270</td>\n",
       "      <td>3.029819</td>\n",
       "    </tr>\n",
       "    <tr>\n",
       "      <th>750</th>\n",
       "      <td>25-34</td>\n",
       "      <td>Single</td>\n",
       "      <td>Under 15K</td>\n",
       "      <td>Unknown</td>\n",
       "      <td>2 Adults Kids</td>\n",
       "      <td>3</td>\n",
       "      <td>1</td>\n",
       "      <td>Not sensible</td>\n",
       "      <td>2600.40</td>\n",
       "      <td>79</td>\n",
       "      <td>15.790</td>\n",
       "      <td>2.971886</td>\n",
       "    </tr>\n",
       "  </tbody>\n",
       "</table>\n",
       "<p>751 rows × 12 columns</p>\n",
       "</div>"
      ],
      "text/plain": [
       "    AGE_DESC MARITAL_STATUS_CODE INCOME_DESC HOMEOWNER_DESC      HH_COMP_DESC  \\\n",
       "0        65+             Married      35-49K      Homeowner  2 Adults No Kids   \n",
       "1      45-54             Married      50-74K      Homeowner  2 Adults No Kids   \n",
       "2      25-34              Single      25-34K        Unknown     2 Adults Kids   \n",
       "3      25-34              Single      75-99K      Homeowner     2 Adults Kids   \n",
       "4      45-54             Unknown      50-74K      Homeowner     Single Female   \n",
       "..       ...                 ...         ...            ...               ...   \n",
       "746    35-44              Single      50-74K      Homeowner  2 Adults No Kids   \n",
       "747    45-54             Married      75-99K      Homeowner           Unknown   \n",
       "748    45-54              Single      35-49K        Unknown       Single Male   \n",
       "749    25-34              Single      50-74K      Homeowner  2 Adults No Kids   \n",
       "750    25-34              Single   Under 15K        Unknown     2 Adults Kids   \n",
       "\n",
       "    HOUSEHOLD_SIZE_DESC KID_CATEGORY_DESC   Sensitivity  Total_sales  \\\n",
       "0                     2      None/Unknown      Sensible      3612.54   \n",
       "1                     2      None/Unknown  Not sensible      2420.12   \n",
       "2                     3                 1      Sensible      4387.35   \n",
       "3                     4                 2      Sensible     10864.94   \n",
       "4                     1      None/Unknown  Not sensible      1486.02   \n",
       "..                  ...               ...           ...          ...   \n",
       "746                   2      None/Unknown  Not sensible      1569.24   \n",
       "747                   3                 1      Sensible      3898.51   \n",
       "748                   1      None/Unknown  Not sensible      5947.91   \n",
       "749                   2      None/Unknown  Not sensible      2348.11   \n",
       "750                   3                 1  Not sensible      2600.40   \n",
       "\n",
       "     total_visits  median_basket  avg_price  \n",
       "0              71         48.500   2.526252  \n",
       "1              42         44.320   2.713139  \n",
       "2              96         34.090   2.875066  \n",
       "3             224         40.000   5.742569  \n",
       "4              93         13.730   2.936798  \n",
       "..            ...            ...        ...  \n",
       "746            27         51.240   3.666449  \n",
       "747            56         72.095   2.935625  \n",
       "748           190         17.130   3.474246  \n",
       "749           145          9.270   3.029819  \n",
       "750            79         15.790   2.971886  \n",
       "\n",
       "[751 rows x 12 columns]"
      ]
     },
     "execution_count": 10,
     "metadata": {},
     "output_type": "execute_result"
    }
   ],
   "source": [
    "#Calculate total sales per customer\n",
    "total_sales=transaction.groupby(by='household_key', as_index=False)['SALES_VALUE'].sum().rename(columns={'SALES_VALUE': 'Total_sales'})\n",
    "#Calculate total number of visits per customer\n",
    "total_visits=transaction.groupby(['household_key'], as_index=False)['BASKET_ID'].agg({'total_visits': pd.Series.nunique})\n",
    "#Calculate median basket amount per customer\n",
    "temp_basket=transaction.groupby(['household_key','BASKET_ID'], as_index=False)['SALES_VALUE'].sum()\n",
    "temp_median_basket=temp_basket.groupby(['household_key'], as_index=False)['SALES_VALUE'].median().rename(columns={'SALES_VALUE': 'median_basket'})\n",
    "#Calculate average product price bought per customer\n",
    "temp_product=transaction.groupby(['household_key'], as_index=False)['SALES_VALUE'].mean().rename(columns={'SALES_VALUE': 'avg_price'})\n",
    "dataset=dataset.merge(total_sales,on='household_key').merge(total_visits,on='household_key').merge(temp_median_basket,on='household_key').merge(temp_product,on='household_key')\n",
    "dataset=dataset.drop(columns=['household_key'])\n",
    "dataset"
   ]
  },
  {
   "cell_type": "markdown",
   "metadata": {
    "papermill": {
     "duration": 0.044156,
     "end_time": "2021-03-09T22:03:45.330686",
     "exception": false,
     "start_time": "2021-03-09T22:03:45.286530",
     "status": "completed"
    },
    "tags": []
   },
   "source": [
    "# 2. Data exploration <a class=\"anchor\" id=\"section_2\"></a>\n",
    "Now our dataset is ready, let's discover it with descriptive statistics"
   ]
  },
  {
   "cell_type": "markdown",
   "metadata": {
    "papermill": {
     "duration": 0.043058,
     "end_time": "2021-03-09T22:03:45.418859",
     "exception": false,
     "start_time": "2021-03-09T22:03:45.375801",
     "status": "completed"
    },
    "tags": []
   },
   "source": [
    "### A. Shape of our data <a class=\"anchor\" id=\"section_2_1\"></a>\n",
    "Let's use the shape() method to know the dimensions of our dataset :"
   ]
  },
  {
   "cell_type": "code",
   "execution_count": 11,
   "metadata": {
    "_kg_hide-input": true,
    "execution": {
     "iopub.execute_input": "2021-03-09T22:03:45.514547Z",
     "iopub.status.busy": "2021-03-09T22:03:45.513735Z",
     "iopub.status.idle": "2021-03-09T22:03:45.518127Z",
     "shell.execute_reply": "2021-03-09T22:03:45.517033Z"
    },
    "papermill": {
     "duration": 0.054314,
     "end_time": "2021-03-09T22:03:45.518303",
     "exception": false,
     "start_time": "2021-03-09T22:03:45.463989",
     "status": "completed"
    },
    "tags": []
   },
   "outputs": [
    {
     "name": "stdout",
     "output_type": "stream",
     "text": [
      "(751, 12)\n"
     ]
    }
   ],
   "source": [
    "print(dataset.shape)"
   ]
  },
  {
   "cell_type": "markdown",
   "metadata": {
    "papermill": {
     "duration": 0.045581,
     "end_time": "2021-03-09T22:03:45.610919",
     "exception": false,
     "start_time": "2021-03-09T22:03:45.565338",
     "status": "completed"
    },
    "tags": []
   },
   "source": [
    "We have __12 variables__ and __751 observations__ in our dataset"
   ]
  },
  {
   "cell_type": "markdown",
   "metadata": {
    "papermill": {
     "duration": 0.047053,
     "end_time": "2021-03-09T22:03:45.706188",
     "exception": false,
     "start_time": "2021-03-09T22:03:45.659135",
     "status": "completed"
    },
    "tags": []
   },
   "source": [
    "### B. Data types and data completeness <a class=\"anchor\" id=\"section_2_2\"></a>\n",
    "Let's use the __*info()*__ function to get more information about our dataframe as variables types and data completness :"
   ]
  },
  {
   "cell_type": "code",
   "execution_count": 12,
   "metadata": {
    "_kg_hide-input": true,
    "_kg_hide-output": true,
    "collapsed": true,
    "execution": {
     "iopub.execute_input": "2021-03-09T22:03:45.809681Z",
     "iopub.status.busy": "2021-03-09T22:03:45.808649Z",
     "iopub.status.idle": "2021-03-09T22:03:45.820235Z",
     "shell.execute_reply": "2021-03-09T22:03:45.819587Z"
    },
    "papermill": {
     "duration": 0.066508,
     "end_time": "2021-03-09T22:03:45.820370",
     "exception": false,
     "start_time": "2021-03-09T22:03:45.753862",
     "status": "completed"
    },
    "tags": []
   },
   "outputs": [
    {
     "name": "stdout",
     "output_type": "stream",
     "text": [
      "<class 'pandas.core.frame.DataFrame'>\n",
      "Int64Index: 751 entries, 0 to 750\n",
      "Data columns (total 12 columns):\n",
      " #   Column               Non-Null Count  Dtype  \n",
      "---  ------               --------------  -----  \n",
      " 0   AGE_DESC             751 non-null    object \n",
      " 1   MARITAL_STATUS_CODE  751 non-null    object \n",
      " 2   INCOME_DESC          751 non-null    object \n",
      " 3   HOMEOWNER_DESC       751 non-null    object \n",
      " 4   HH_COMP_DESC         751 non-null    object \n",
      " 5   HOUSEHOLD_SIZE_DESC  751 non-null    object \n",
      " 6   KID_CATEGORY_DESC    751 non-null    object \n",
      " 7   Sensitivity          751 non-null    object \n",
      " 8   Total_sales          751 non-null    float64\n",
      " 9   total_visits         751 non-null    int64  \n",
      " 10  median_basket        751 non-null    float64\n",
      " 11  avg_price            751 non-null    float64\n",
      "dtypes: float64(3), int64(1), object(8)\n",
      "memory usage: 76.3+ KB\n",
      "None\n"
     ]
    }
   ],
   "source": [
    "print(dataset.info())"
   ]
  },
  {
   "cell_type": "markdown",
   "metadata": {
    "papermill": {
     "duration": 0.048492,
     "end_time": "2021-03-09T22:03:45.917831",
     "exception": false,
     "start_time": "2021-03-09T22:03:45.869339",
     "status": "completed"
    },
    "tags": []
   },
   "source": [
    "We have __8 categorical variables__ and __4 numerical values__.  \n",
    "We don't have any missing value among our 751 observations."
   ]
  },
  {
   "cell_type": "markdown",
   "metadata": {
    "papermill": {
     "duration": 0.046805,
     "end_time": "2021-03-09T22:03:46.011464",
     "exception": false,
     "start_time": "2021-03-09T22:03:45.964659",
     "status": "completed"
    },
    "tags": []
   },
   "source": [
    "### C. Statistical Summary <a class=\"anchor\" id=\"section_2_3\"></a>\n",
    "Let's use the __*describe()*__ function to have a basic description of our dataset. It will enable us to have various summary statistics :"
   ]
  },
  {
   "cell_type": "code",
   "execution_count": 13,
   "metadata": {
    "_kg_hide-input": true,
    "execution": {
     "iopub.execute_input": "2021-03-09T22:03:46.115839Z",
     "iopub.status.busy": "2021-03-09T22:03:46.115204Z",
     "iopub.status.idle": "2021-03-09T22:03:46.134994Z",
     "shell.execute_reply": "2021-03-09T22:03:46.134454Z"
    },
    "papermill": {
     "duration": 0.075473,
     "end_time": "2021-03-09T22:03:46.135101",
     "exception": false,
     "start_time": "2021-03-09T22:03:46.059628",
     "status": "completed"
    },
    "tags": []
   },
   "outputs": [
    {
     "data": {
      "text/html": [
       "<div>\n",
       "<style scoped>\n",
       "    .dataframe tbody tr th:only-of-type {\n",
       "        vertical-align: middle;\n",
       "    }\n",
       "\n",
       "    .dataframe tbody tr th {\n",
       "        vertical-align: top;\n",
       "    }\n",
       "\n",
       "    .dataframe thead th {\n",
       "        text-align: right;\n",
       "    }\n",
       "</style>\n",
       "<table border=\"1\" class=\"dataframe\">\n",
       "  <thead>\n",
       "    <tr style=\"text-align: right;\">\n",
       "      <th></th>\n",
       "      <th>Total_sales</th>\n",
       "      <th>total_visits</th>\n",
       "      <th>median_basket</th>\n",
       "      <th>avg_price</th>\n",
       "    </tr>\n",
       "  </thead>\n",
       "  <tbody>\n",
       "    <tr>\n",
       "      <th>count</th>\n",
       "      <td>751.00</td>\n",
       "      <td>751.00</td>\n",
       "      <td>751.00</td>\n",
       "      <td>751.00</td>\n",
       "    </tr>\n",
       "    <tr>\n",
       "      <th>mean</th>\n",
       "      <td>4856.60</td>\n",
       "      <td>152.94</td>\n",
       "      <td>27.84</td>\n",
       "      <td>3.16</td>\n",
       "    </tr>\n",
       "    <tr>\n",
       "      <th>std</th>\n",
       "      <td>3164.52</td>\n",
       "      <td>114.18</td>\n",
       "      <td>19.33</td>\n",
       "      <td>0.76</td>\n",
       "    </tr>\n",
       "    <tr>\n",
       "      <th>min</th>\n",
       "      <td>603.22</td>\n",
       "      <td>26.00</td>\n",
       "      <td>1.38</td>\n",
       "      <td>1.31</td>\n",
       "    </tr>\n",
       "    <tr>\n",
       "      <th>25%</th>\n",
       "      <td>2549.37</td>\n",
       "      <td>86.00</td>\n",
       "      <td>15.00</td>\n",
       "      <td>2.67</td>\n",
       "    </tr>\n",
       "    <tr>\n",
       "      <th>50%</th>\n",
       "      <td>4055.48</td>\n",
       "      <td>121.00</td>\n",
       "      <td>23.55</td>\n",
       "      <td>3.08</td>\n",
       "    </tr>\n",
       "    <tr>\n",
       "      <th>75%</th>\n",
       "      <td>6135.13</td>\n",
       "      <td>186.00</td>\n",
       "      <td>34.98</td>\n",
       "      <td>3.54</td>\n",
       "    </tr>\n",
       "    <tr>\n",
       "      <th>max</th>\n",
       "      <td>23805.83</td>\n",
       "      <td>1161.00</td>\n",
       "      <td>128.88</td>\n",
       "      <td>9.41</td>\n",
       "    </tr>\n",
       "  </tbody>\n",
       "</table>\n",
       "</div>"
      ],
      "text/plain": [
       "       Total_sales  total_visits  median_basket  avg_price\n",
       "count       751.00        751.00         751.00     751.00\n",
       "mean       4856.60        152.94          27.84       3.16\n",
       "std        3164.52        114.18          19.33       0.76\n",
       "min         603.22         26.00           1.38       1.31\n",
       "25%        2549.37         86.00          15.00       2.67\n",
       "50%        4055.48        121.00          23.55       3.08\n",
       "75%        6135.13        186.00          34.98       3.54\n",
       "max       23805.83       1161.00         128.88       9.41"
      ]
     },
     "execution_count": 13,
     "metadata": {},
     "output_type": "execute_result"
    }
   ],
   "source": [
    "pd.options.display.float_format = \"{:.2f}\".format\n",
    "dataset.describe()"
   ]
  },
  {
   "cell_type": "code",
   "execution_count": 14,
   "metadata": {
    "_kg_hide-input": true,
    "execution": {
     "iopub.execute_input": "2021-03-09T22:03:46.240970Z",
     "iopub.status.busy": "2021-03-09T22:03:46.240217Z",
     "iopub.status.idle": "2021-03-09T22:03:47.878805Z",
     "shell.execute_reply": "2021-03-09T22:03:47.879413Z"
    },
    "papermill": {
     "duration": 1.695972,
     "end_time": "2021-03-09T22:03:47.879626",
     "exception": false,
     "start_time": "2021-03-09T22:03:46.183654",
     "status": "completed"
    },
    "tags": []
   },
   "outputs": [
    {
     "data": {
      "image/png": "[encoded data removed]",
      "text/plain": [
       "<Figure size 1008x1512 with 6 Axes>"
      ]
     },
     "metadata": {
      "needs_background": "light"
     },
     "output_type": "display_data"
    }
   ],
   "source": [
    "categorical_vars = ['AGE_DESC','MARITAL_STATUS_CODE','INCOME_DESC','HOMEOWNER_DESC','HH_COMP_DESC','KID_CATEGORY_DESC']\n",
    "num_plots = len(categorical_vars)\n",
    "total_cols = 2\n",
    "total_rows = num_plots//total_cols\n",
    "fig, axs = plt.subplots(nrows=total_rows, ncols=total_cols,\n",
    "                        figsize=(7*total_cols, 7*total_rows), constrained_layout=True)\n",
    "for i, var in enumerate(categorical_vars):\n",
    "    row = i//total_cols\n",
    "    pos = i % total_cols    \n",
    "    plot = sns.countplot(x=var, data=dataset, ax=axs[row][pos],hue='Sensitivity',palette=\"Set1\")"
   ]
  },
  {
   "cell_type": "code",
   "execution_count": 15,
   "metadata": {
    "_kg_hide-input": true,
    "execution": {
     "iopub.execute_input": "2021-03-09T22:03:47.992043Z",
     "iopub.status.busy": "2021-03-09T22:03:47.987553Z",
     "iopub.status.idle": "2021-03-09T22:03:52.067988Z",
     "shell.execute_reply": "2021-03-09T22:03:52.067503Z"
    },
    "papermill": {
     "duration": 4.138416,
     "end_time": "2021-03-09T22:03:52.068099",
     "exception": false,
     "start_time": "2021-03-09T22:03:47.929683",
     "status": "completed"
    },
    "tags": []
   },
   "outputs": [
    {
     "data": {
      "image/png": "[encoded data removed]",
      "text/plain": [
       "<Figure size 1008x1512 with 6 Axes>"
      ]
     },
     "metadata": {
      "needs_background": "light"
     },
     "output_type": "display_data"
    }
   ],
   "source": [
    "categorical_vars = ['AGE_DESC','MARITAL_STATUS_CODE','INCOME_DESC','HOMEOWNER_DESC','HH_COMP_DESC','KID_CATEGORY_DESC']\n",
    "num_plots = len(categorical_vars)\n",
    "total_cols = 2\n",
    "total_rows = num_plots//total_cols\n",
    "fig, axs = plt.subplots(nrows=total_rows, ncols=total_cols,\n",
    "                        figsize=(7*total_cols, 7*total_rows), constrained_layout=True)\n",
    "for i, var in enumerate(categorical_vars):\n",
    "    row = i//total_cols\n",
    "    pos = i % total_cols\n",
    "    plot = sns.barplot(x=var, y='median_basket',data=dataset, ax=axs[row][pos],palette=\"Set1\",estimator=np.median)"
   ]
  },
  {
   "cell_type": "markdown",
   "metadata": {
    "papermill": {
     "duration": 0.050729,
     "end_time": "2021-03-09T22:03:52.170486",
     "exception": false,
     "start_time": "2021-03-09T22:03:52.119757",
     "status": "completed"
    },
    "tags": []
   },
   "source": [
    "We can see the median basket is the __highest__ for :\n",
    "- Married households\n",
    "- Households with 3 kids and more\n",
    "- Households with an income superior than 250k+"
   ]
  },
  {
   "cell_type": "markdown",
   "metadata": {
    "papermill": {
     "duration": 0.050138,
     "end_time": "2021-03-09T22:03:52.271562",
     "exception": false,
     "start_time": "2021-03-09T22:03:52.221424",
     "status": "completed"
    },
    "tags": []
   },
   "source": [
    "### D. Class distribution <a class=\"anchor\" id=\"section_2_4\"></a>\n",
    "On classification problems, analyzing the class distribution is always an important step as highly imbalanced data are common and need special treatment. Let's check if data are imbalanced :"
   ]
  },
  {
   "cell_type": "code",
   "execution_count": 16,
   "metadata": {
    "_kg_hide-input": true,
    "execution": {
     "iopub.execute_input": "2021-03-09T22:03:52.381587Z",
     "iopub.status.busy": "2021-03-09T22:03:52.380954Z",
     "iopub.status.idle": "2021-03-09T22:03:52.385657Z",
     "shell.execute_reply": "2021-03-09T22:03:52.386415Z"
    },
    "papermill": {
     "duration": 0.063737,
     "end_time": "2021-03-09T22:03:52.386609",
     "exception": false,
     "start_time": "2021-03-09T22:03:52.322872",
     "status": "completed"
    },
    "tags": []
   },
   "outputs": [
    {
     "name": "stdout",
     "output_type": "stream",
     "text": [
      "Class=Sensible, Count=286, Percentage=38.08%\n",
      "Class=Not sensible, Count=465, Percentage=61.92%\n"
     ]
    }
   ],
   "source": [
    "target = dataset['Sensitivity']\n",
    "counter = Counter(target)\n",
    "for k,v in counter.items():\n",
    "    per = v / len(target) * 100\n",
    "    print('Class=%s, Count=%d, Percentage=%.2f%%' % (k, v, per))"
   ]
  },
  {
   "cell_type": "markdown",
   "metadata": {
    "papermill": {
     "duration": 0.052852,
     "end_time": "2021-03-09T22:03:52.493154",
     "exception": false,
     "start_time": "2021-03-09T22:03:52.440302",
     "status": "completed"
    },
    "tags": []
   },
   "source": [
    "__62%__ of our customers are not sensitive to coupons. Hence our dataset is sligthly imbalanced with more customers not sensible to coupons.<br> We will keep that in mind when choosing our cross validation technique."
   ]
  },
  {
   "cell_type": "markdown",
   "metadata": {
    "papermill": {
     "duration": 0.053212,
     "end_time": "2021-03-09T22:03:52.599611",
     "exception": false,
     "start_time": "2021-03-09T22:03:52.546399",
     "status": "completed"
    },
    "tags": []
   },
   "source": [
    "### E. Variable encoding and split <a class=\"anchor\" id=\"section_2_5\"></a>\n",
    "These two intermediate steps are needed in order to :\n",
    "1. Separate the columns of our dataset into input patterns (X) and output patterns (Y)\n",
    "2. Transform our eight categorical variables in numeric variables"
   ]
  },
  {
   "cell_type": "code",
   "execution_count": 17,
   "metadata": {
    "_kg_hide-input": true,
    "execution": {
     "iopub.execute_input": "2021-03-09T22:03:52.754159Z",
     "iopub.status.busy": "2021-03-09T22:03:52.753195Z",
     "iopub.status.idle": "2021-03-09T22:03:52.779157Z",
     "shell.execute_reply": "2021-03-09T22:03:52.778647Z"
    },
    "papermill": {
     "duration": 0.080075,
     "end_time": "2021-03-09T22:03:52.779310",
     "exception": false,
     "start_time": "2021-03-09T22:03:52.699235",
     "status": "completed"
    },
    "tags": []
   },
   "outputs": [],
   "source": [
    "#1. Split data into X and Y\n",
    "X=dataset.drop(columns=['Sensitivity'])\n",
    "Y=dataset['Sensitivity']\n",
    "\n",
    "#2.A. Encode string class values as integers\n",
    "label_encoder = preprocessing.LabelEncoder()\n",
    "label_encoder = label_encoder.fit(dataset['Sensitivity'])\n",
    "label_encoded_y = label_encoder.transform(dataset['Sensitivity'])\n",
    "\n",
    "#2.A. Encode Income values as integers\n",
    "X['INCOME_DESC'].replace(['Under 15K', '15-24K', '25-34K', '35-49K', '50-74K', '75-99K', '100-124K', '125-149K', '150-174K', '175-199K', '200-249K', '250K+'],[0,1,2,3,4,5,6,7,8,9,10,11],inplace=True)\n",
    "\n",
    "#2.A. Encode Income values as integers\n",
    "X['AGE_DESC'].replace(['19-24', '25-34', '35-44', '45-54', '55-64', '65+'],[0,1,2,3,4,5],inplace=True)\n",
    "\n",
    "#2.A. Label encoding the other categorical data\n",
    "labelencoder_X_1 = LabelEncoder()\n",
    "X['MARITAL_STATUS_CODE'] = labelencoder_X_1.fit_transform(X['MARITAL_STATUS_CODE'])\n",
    "labelencoder_X_2 = LabelEncoder()\n",
    "X['HOMEOWNER_DESC'] = labelencoder_X_2.fit_transform(X['HOMEOWNER_DESC'])\n",
    "labelencoder_X_3 = LabelEncoder()\n",
    "X['HH_COMP_DESC'] = labelencoder_X_3.fit_transform(X['HH_COMP_DESC'])\n",
    "labelencoder_X_4 = LabelEncoder()\n",
    "X['HOUSEHOLD_SIZE_DESC'] = labelencoder_X_4.fit_transform(X['HOUSEHOLD_SIZE_DESC'])\n",
    "X[\"KID_CATEGORY_DESC\"].replace(['None/Unknown','3+'],[0,3],inplace=True)\n",
    "X['HOUSEHOLD_SIZE_DESC'] = X.HOUSEHOLD_SIZE_DESC.astype(float)\n",
    "X['KID_CATEGORY_DESC'] = X.KID_CATEGORY_DESC.astype(float)"
   ]
  },
  {
   "cell_type": "markdown",
   "metadata": {
    "papermill": {
     "duration": 0.051468,
     "end_time": "2021-03-09T22:03:52.882106",
     "exception": false,
     "start_time": "2021-03-09T22:03:52.830638",
     "status": "completed"
    },
    "tags": []
   },
   "source": [
    "### F. Skew of univariate distribution <a class=\"anchor\" id=\"section_2_6\"></a>\n",
    "This steps is one of the most important as many algorithm performance would depend on the normal distribution of the variables.\n",
    "XGboost is a non-parametric model and non-parametric models are rarely affected by skewed features. However normalizing features will not have a negative effect on our models’ performance. Let's check if our data are skewed :"
   ]
  },
  {
   "cell_type": "code",
   "execution_count": 18,
   "metadata": {
    "_kg_hide-input": true,
    "execution": {
     "iopub.execute_input": "2021-03-09T22:03:52.991693Z",
     "iopub.status.busy": "2021-03-09T22:03:52.991051Z",
     "iopub.status.idle": "2021-03-09T22:03:53.002423Z",
     "shell.execute_reply": "2021-03-09T22:03:53.002961Z"
    },
    "papermill": {
     "duration": 0.069534,
     "end_time": "2021-03-09T22:03:53.003110",
     "exception": false,
     "start_time": "2021-03-09T22:03:52.933576",
     "status": "completed"
    },
    "tags": []
   },
   "outputs": [
    {
     "name": "stdout",
     "output_type": "stream",
     "text": [
      "                     Skew\n",
      "total_visits         3.49\n",
      "median_basket        1.95\n",
      "KID_CATEGORY_DESC    1.69\n",
      "Total_sales          1.63\n",
      "avg_price            1.42\n",
      "HOUSEHOLD_SIZE_DESC  1.06\n",
      "INCOME_DESC          0.68\n",
      "HOMEOWNER_DESC       0.63\n",
      "MARITAL_STATUS_CODE  0.43\n",
      "HH_COMP_DESC         0.39\n",
      "AGE_DESC             0.10\n"
     ]
    }
   ],
   "source": [
    "#Let's plot the Skewness by decreasing order\n",
    "num_feats=X.dtypes[X.dtypes!='object'].index\n",
    "skew_feats=X[num_feats].skew().sort_values(ascending=False)\n",
    "skewness=pd.DataFrame({'Skew':skew_feats})\n",
    "print(skewness)"
   ]
  },
  {
   "cell_type": "markdown",
   "metadata": {
    "papermill": {
     "duration": 0.050606,
     "end_time": "2021-03-09T22:03:53.106350",
     "exception": false,
     "start_time": "2021-03-09T22:03:53.055744",
     "status": "completed"
    },
    "tags": []
   },
   "source": [
    "Value close to 0 show __less skew__.  \n",
    "Plotting the distribution is the fastest way to know if an attribute is Gaussian or skewed."
   ]
  },
  {
   "cell_type": "code",
   "execution_count": 19,
   "metadata": {
    "_kg_hide-input": true,
    "execution": {
     "iopub.execute_input": "2021-03-09T22:03:53.233750Z",
     "iopub.status.busy": "2021-03-09T22:03:53.225655Z",
     "iopub.status.idle": "2021-03-09T22:03:55.323643Z",
     "shell.execute_reply": "2021-03-09T22:03:55.323063Z"
    },
    "papermill": {
     "duration": 2.164624,
     "end_time": "2021-03-09T22:03:55.323765",
     "exception": false,
     "start_time": "2021-03-09T22:03:53.159141",
     "status": "completed"
    },
    "tags": []
   },
   "outputs": [
    {
     "data": {
      "text/plain": [
       "<seaborn.axisgrid.FacetGrid at 0x7f90acb068d0>"
      ]
     },
     "execution_count": 19,
     "metadata": {},
     "output_type": "execute_result"
    },
    {
     "data": {
      "image/png": "[encoded data removed]",
      "text/plain": [
       "<Figure size 1080x432 with 10 Axes>"
      ]
     },
     "metadata": {
      "needs_background": "light"
     },
     "output_type": "display_data"
    }
   ],
   "source": [
    "df = pd.DataFrame(data=X, columns=['AGE_DESC','MARITAL_STATUS_CODE','INCOME_DESC','HOMEOWNER_DESC','HH_COMP_DESC','KID_CATEGORY_DESC','Total_sales','total_visits','median_basket','avg_price'])\n",
    "#Permet de tracer les courbes de distribution de toutes les variables\n",
    "nd = pd.melt(df, value_vars =df )\n",
    "n1 = sns.FacetGrid (nd, col='variable', col_wrap=5, sharex=False, sharey = False)\n",
    "n1 = n1.map(sns.distplot, 'value')\n",
    "n1"
   ]
  },
  {
   "cell_type": "markdown",
   "metadata": {
    "papermill": {
     "duration": 0.052664,
     "end_time": "2021-03-09T22:03:55.430985",
     "exception": false,
     "start_time": "2021-03-09T22:03:55.378321",
     "status": "completed"
    },
    "tags": []
   },
   "source": [
    "We can see we have variables with Multinomial distribution and variables with Gaussian-like distribution with a long right tail. This is confirmed with the positive values of the skewness"
   ]
  },
  {
   "cell_type": "markdown",
   "metadata": {
    "papermill": {
     "duration": 0.051614,
     "end_time": "2021-03-09T22:03:55.537141",
     "exception": false,
     "start_time": "2021-03-09T22:03:55.485527",
     "status": "completed"
    },
    "tags": []
   },
   "source": [
    "### G. Correlation between attributes <a class=\"anchor\" id=\"section_2_7\"></a>\n",
    "Now we want to be sure we don't have variables with similar information. For that we will plot the correlation matrix.\n",
    "Correlation refers to the relationship between two variables and how they move together.\n",
    "Even if XGBoost manages very well correlated features, it's always a good step to check for multicollinearity"
   ]
  },
  {
   "cell_type": "code",
   "execution_count": 20,
   "metadata": {
    "_kg_hide-input": true,
    "execution": {
     "iopub.execute_input": "2021-03-09T22:03:55.653111Z",
     "iopub.status.busy": "2021-03-09T22:03:55.651621Z",
     "iopub.status.idle": "2021-03-09T22:03:56.363700Z",
     "shell.execute_reply": "2021-03-09T22:03:56.363182Z"
    },
    "papermill": {
     "duration": 0.772458,
     "end_time": "2021-03-09T22:03:56.363803",
     "exception": false,
     "start_time": "2021-03-09T22:03:55.591345",
     "status": "completed"
    },
    "tags": []
   },
   "outputs": [
    {
     "data": {
      "text/html": [
       "<div>\n",
       "<style scoped>\n",
       "    .dataframe tbody tr th:only-of-type {\n",
       "        vertical-align: middle;\n",
       "    }\n",
       "\n",
       "    .dataframe tbody tr th {\n",
       "        vertical-align: top;\n",
       "    }\n",
       "\n",
       "    .dataframe thead th {\n",
       "        text-align: right;\n",
       "    }\n",
       "</style>\n",
       "<table border=\"1\" class=\"dataframe\">\n",
       "  <thead>\n",
       "    <tr style=\"text-align: right;\">\n",
       "      <th></th>\n",
       "      <th>AGE_DESC</th>\n",
       "      <th>MARITAL_STATUS_CODE</th>\n",
       "      <th>INCOME_DESC</th>\n",
       "      <th>HOMEOWNER_DESC</th>\n",
       "      <th>HH_COMP_DESC</th>\n",
       "      <th>HOUSEHOLD_SIZE_DESC</th>\n",
       "      <th>KID_CATEGORY_DESC</th>\n",
       "      <th>Total_sales</th>\n",
       "      <th>total_visits</th>\n",
       "      <th>median_basket</th>\n",
       "      <th>avg_price</th>\n",
       "    </tr>\n",
       "  </thead>\n",
       "  <tbody>\n",
       "    <tr>\n",
       "      <th>AGE_DESC</th>\n",
       "      <td>1.00</td>\n",
       "      <td>-0.10</td>\n",
       "      <td>0.03</td>\n",
       "      <td>-0.22</td>\n",
       "      <td>0.17</td>\n",
       "      <td>-0.11</td>\n",
       "      <td>-0.22</td>\n",
       "      <td>-0.08</td>\n",
       "      <td>-0.04</td>\n",
       "      <td>0.02</td>\n",
       "      <td>0.02</td>\n",
       "    </tr>\n",
       "    <tr>\n",
       "      <th>MARITAL_STATUS_CODE</th>\n",
       "      <td>-0.10</td>\n",
       "      <td>1.00</td>\n",
       "      <td>-0.20</td>\n",
       "      <td>0.32</td>\n",
       "      <td>0.34</td>\n",
       "      <td>-0.52</td>\n",
       "      <td>-0.27</td>\n",
       "      <td>-0.13</td>\n",
       "      <td>0.01</td>\n",
       "      <td>-0.17</td>\n",
       "      <td>-0.11</td>\n",
       "    </tr>\n",
       "    <tr>\n",
       "      <th>INCOME_DESC</th>\n",
       "      <td>0.03</td>\n",
       "      <td>-0.20</td>\n",
       "      <td>1.00</td>\n",
       "      <td>-0.29</td>\n",
       "      <td>-0.05</td>\n",
       "      <td>0.12</td>\n",
       "      <td>0.06</td>\n",
       "      <td>0.21</td>\n",
       "      <td>-0.06</td>\n",
       "      <td>0.33</td>\n",
       "      <td>0.27</td>\n",
       "    </tr>\n",
       "    <tr>\n",
       "      <th>HOMEOWNER_DESC</th>\n",
       "      <td>-0.22</td>\n",
       "      <td>0.32</td>\n",
       "      <td>-0.29</td>\n",
       "      <td>1.00</td>\n",
       "      <td>0.25</td>\n",
       "      <td>-0.32</td>\n",
       "      <td>-0.12</td>\n",
       "      <td>-0.13</td>\n",
       "      <td>0.10</td>\n",
       "      <td>-0.29</td>\n",
       "      <td>-0.20</td>\n",
       "    </tr>\n",
       "    <tr>\n",
       "      <th>HH_COMP_DESC</th>\n",
       "      <td>0.17</td>\n",
       "      <td>0.34</td>\n",
       "      <td>-0.05</td>\n",
       "      <td>0.25</td>\n",
       "      <td>1.00</td>\n",
       "      <td>-0.86</td>\n",
       "      <td>-0.74</td>\n",
       "      <td>-0.14</td>\n",
       "      <td>0.00</td>\n",
       "      <td>-0.12</td>\n",
       "      <td>-0.01</td>\n",
       "    </tr>\n",
       "    <tr>\n",
       "      <th>HOUSEHOLD_SIZE_DESC</th>\n",
       "      <td>-0.11</td>\n",
       "      <td>-0.52</td>\n",
       "      <td>0.12</td>\n",
       "      <td>-0.32</td>\n",
       "      <td>-0.86</td>\n",
       "      <td>1.00</td>\n",
       "      <td>0.82</td>\n",
       "      <td>0.15</td>\n",
       "      <td>-0.01</td>\n",
       "      <td>0.15</td>\n",
       "      <td>0.05</td>\n",
       "    </tr>\n",
       "    <tr>\n",
       "      <th>KID_CATEGORY_DESC</th>\n",
       "      <td>-0.22</td>\n",
       "      <td>-0.27</td>\n",
       "      <td>0.06</td>\n",
       "      <td>-0.12</td>\n",
       "      <td>-0.74</td>\n",
       "      <td>0.82</td>\n",
       "      <td>1.00</td>\n",
       "      <td>0.13</td>\n",
       "      <td>0.02</td>\n",
       "      <td>0.08</td>\n",
       "      <td>-0.03</td>\n",
       "    </tr>\n",
       "    <tr>\n",
       "      <th>Total_sales</th>\n",
       "      <td>-0.08</td>\n",
       "      <td>-0.13</td>\n",
       "      <td>0.21</td>\n",
       "      <td>-0.13</td>\n",
       "      <td>-0.14</td>\n",
       "      <td>0.15</td>\n",
       "      <td>0.13</td>\n",
       "      <td>1.00</td>\n",
       "      <td>0.56</td>\n",
       "      <td>0.44</td>\n",
       "      <td>0.36</td>\n",
       "    </tr>\n",
       "    <tr>\n",
       "      <th>total_visits</th>\n",
       "      <td>-0.04</td>\n",
       "      <td>0.01</td>\n",
       "      <td>-0.06</td>\n",
       "      <td>0.10</td>\n",
       "      <td>0.00</td>\n",
       "      <td>-0.01</td>\n",
       "      <td>0.02</td>\n",
       "      <td>0.56</td>\n",
       "      <td>1.00</td>\n",
       "      <td>-0.38</td>\n",
       "      <td>0.04</td>\n",
       "    </tr>\n",
       "    <tr>\n",
       "      <th>median_basket</th>\n",
       "      <td>0.02</td>\n",
       "      <td>-0.17</td>\n",
       "      <td>0.33</td>\n",
       "      <td>-0.29</td>\n",
       "      <td>-0.12</td>\n",
       "      <td>0.15</td>\n",
       "      <td>0.08</td>\n",
       "      <td>0.44</td>\n",
       "      <td>-0.38</td>\n",
       "      <td>1.00</td>\n",
       "      <td>0.38</td>\n",
       "    </tr>\n",
       "    <tr>\n",
       "      <th>avg_price</th>\n",
       "      <td>0.02</td>\n",
       "      <td>-0.11</td>\n",
       "      <td>0.27</td>\n",
       "      <td>-0.20</td>\n",
       "      <td>-0.01</td>\n",
       "      <td>0.05</td>\n",
       "      <td>-0.03</td>\n",
       "      <td>0.36</td>\n",
       "      <td>0.04</td>\n",
       "      <td>0.38</td>\n",
       "      <td>1.00</td>\n",
       "    </tr>\n",
       "  </tbody>\n",
       "</table>\n",
       "</div>"
      ],
      "text/plain": [
       "                     AGE_DESC  MARITAL_STATUS_CODE  INCOME_DESC  \\\n",
       "AGE_DESC                 1.00                -0.10         0.03   \n",
       "MARITAL_STATUS_CODE     -0.10                 1.00        -0.20   \n",
       "INCOME_DESC              0.03                -0.20         1.00   \n",
       "HOMEOWNER_DESC          -0.22                 0.32        -0.29   \n",
       "HH_COMP_DESC             0.17                 0.34        -0.05   \n",
       "HOUSEHOLD_SIZE_DESC     -0.11                -0.52         0.12   \n",
       "KID_CATEGORY_DESC       -0.22                -0.27         0.06   \n",
       "Total_sales             -0.08                -0.13         0.21   \n",
       "total_visits            -0.04                 0.01        -0.06   \n",
       "median_basket            0.02                -0.17         0.33   \n",
       "avg_price                0.02                -0.11         0.27   \n",
       "\n",
       "                     HOMEOWNER_DESC  HH_COMP_DESC  HOUSEHOLD_SIZE_DESC  \\\n",
       "AGE_DESC                      -0.22          0.17                -0.11   \n",
       "MARITAL_STATUS_CODE            0.32          0.34                -0.52   \n",
       "INCOME_DESC                   -0.29         -0.05                 0.12   \n",
       "HOMEOWNER_DESC                 1.00          0.25                -0.32   \n",
       "HH_COMP_DESC                   0.25          1.00                -0.86   \n",
       "HOUSEHOLD_SIZE_DESC           -0.32         -0.86                 1.00   \n",
       "KID_CATEGORY_DESC             -0.12         -0.74                 0.82   \n",
       "Total_sales                   -0.13         -0.14                 0.15   \n",
       "total_visits                   0.10          0.00                -0.01   \n",
       "median_basket                 -0.29         -0.12                 0.15   \n",
       "avg_price                     -0.20         -0.01                 0.05   \n",
       "\n",
       "                     KID_CATEGORY_DESC  Total_sales  total_visits  \\\n",
       "AGE_DESC                         -0.22        -0.08         -0.04   \n",
       "MARITAL_STATUS_CODE              -0.27        -0.13          0.01   \n",
       "INCOME_DESC                       0.06         0.21         -0.06   \n",
       "HOMEOWNER_DESC                   -0.12        -0.13          0.10   \n",
       "HH_COMP_DESC                     -0.74        -0.14          0.00   \n",
       "HOUSEHOLD_SIZE_DESC               0.82         0.15         -0.01   \n",
       "KID_CATEGORY_DESC                 1.00         0.13          0.02   \n",
       "Total_sales                       0.13         1.00          0.56   \n",
       "total_visits                      0.02         0.56          1.00   \n",
       "median_basket                     0.08         0.44         -0.38   \n",
       "avg_price                        -0.03         0.36          0.04   \n",
       "\n",
       "                     median_basket  avg_price  \n",
       "AGE_DESC                      0.02       0.02  \n",
       "MARITAL_STATUS_CODE          -0.17      -0.11  \n",
       "INCOME_DESC                   0.33       0.27  \n",
       "HOMEOWNER_DESC               -0.29      -0.20  \n",
       "HH_COMP_DESC                 -0.12      -0.01  \n",
       "HOUSEHOLD_SIZE_DESC           0.15       0.05  \n",
       "KID_CATEGORY_DESC             0.08      -0.03  \n",
       "Total_sales                   0.44       0.36  \n",
       "total_visits                 -0.38       0.04  \n",
       "median_basket                 1.00       0.38  \n",
       "avg_price                     0.38       1.00  "
      ]
     },
     "execution_count": 20,
     "metadata": {},
     "output_type": "execute_result"
    },
    {
     "data": {
      "image/png": "[encoded data removed]",
      "text/plain": [
       "<Figure size 1440x720 with 2 Axes>"
      ]
     },
     "metadata": {
      "needs_background": "light"
     },
     "output_type": "display_data"
    }
   ],
   "source": [
    "# Finding the relations between the variables\n",
    "plt.figure(figsize=(20,10))\n",
    "c= X.corr(method='spearman')\n",
    "sns.heatmap(c,annot=True)\n",
    "c"
   ]
  },
  {
   "cell_type": "markdown",
   "metadata": {
    "papermill": {
     "duration": 0.058765,
     "end_time": "2021-03-09T22:03:56.481474",
     "exception": false,
     "start_time": "2021-03-09T22:03:56.422709",
     "status": "completed"
    },
    "tags": []
   },
   "source": [
    "We can see that Households_SIZE_DESC,KID_CATEGORY_DESC and HH_COMP_DESC are correlated. Even if as said, XGboost handle correlated features, we will remove HOUSEHOLD_SIZE_DESC"
   ]
  },
  {
   "cell_type": "code",
   "execution_count": 21,
   "metadata": {
    "_kg_hide-input": true,
    "execution": {
     "iopub.execute_input": "2021-03-09T22:03:56.604811Z",
     "iopub.status.busy": "2021-03-09T22:03:56.603803Z",
     "iopub.status.idle": "2021-03-09T22:03:56.607782Z",
     "shell.execute_reply": "2021-03-09T22:03:56.607106Z"
    },
    "papermill": {
     "duration": 0.068622,
     "end_time": "2021-03-09T22:03:56.607910",
     "exception": false,
     "start_time": "2021-03-09T22:03:56.539288",
     "status": "completed"
    },
    "tags": []
   },
   "outputs": [],
   "source": [
    "#remove attribute\n",
    "X=X.drop(columns=['HOUSEHOLD_SIZE_DESC'])"
   ]
  },
  {
   "cell_type": "markdown",
   "metadata": {
    "papermill": {
     "duration": 0.057739,
     "end_time": "2021-03-09T22:03:56.726214",
     "exception": false,
     "start_time": "2021-03-09T22:03:56.668475",
     "status": "completed"
    },
    "tags": []
   },
   "source": [
    "# 3. Data preprocessing <a class=\"anchor\" id=\"section_3\"></a>"
   ]
  },
  {
   "cell_type": "markdown",
   "metadata": {
    "papermill": {
     "duration": 0.058272,
     "end_time": "2021-03-09T22:03:56.843847",
     "exception": false,
     "start_time": "2021-03-09T22:03:56.785575",
     "status": "completed"
    },
    "tags": []
   },
   "source": [
    "### A. Split data into train test <a class=\"anchor\" id=\"section_3_1\"></a>"
   ]
  },
  {
   "cell_type": "code",
   "execution_count": 22,
   "metadata": {
    "execution": {
     "iopub.execute_input": "2021-03-09T22:03:56.966317Z",
     "iopub.status.busy": "2021-03-09T22:03:56.965403Z",
     "iopub.status.idle": "2021-03-09T22:03:56.969081Z",
     "shell.execute_reply": "2021-03-09T22:03:56.968463Z"
    },
    "papermill": {
     "duration": 0.067791,
     "end_time": "2021-03-09T22:03:56.969189",
     "exception": false,
     "start_time": "2021-03-09T22:03:56.901398",
     "status": "completed"
    },
    "tags": []
   },
   "outputs": [],
   "source": [
    "X_train, X_test, y_train, y_test = train_test_split(X,label_encoded_y ,\n",
    "test_size=0.3, random_state=7,shuffle=True)"
   ]
  },
  {
   "cell_type": "markdown",
   "metadata": {
    "papermill": {
     "duration": 0.059572,
     "end_time": "2021-03-09T22:03:57.087547",
     "exception": false,
     "start_time": "2021-03-09T22:03:57.027975",
     "status": "completed"
    },
    "tags": []
   },
   "source": [
    "### B. Data transform <a class=\"anchor\" id=\"section_3_2\"></a>\n",
    "To give our data a more Gaussian distribution, we will use the power transform method"
   ]
  },
  {
   "cell_type": "code",
   "execution_count": 23,
   "metadata": {
    "_kg_hide-input": true,
    "execution": {
     "iopub.execute_input": "2021-03-09T22:03:57.219316Z",
     "iopub.status.busy": "2021-03-09T22:03:57.218119Z",
     "iopub.status.idle": "2021-03-09T22:03:57.294259Z",
     "shell.execute_reply": "2021-03-09T22:03:57.294781Z"
    },
    "papermill": {
     "duration": 0.14833,
     "end_time": "2021-03-09T22:03:57.294920",
     "exception": false,
     "start_time": "2021-03-09T22:03:57.146590",
     "status": "completed"
    },
    "tags": []
   },
   "outputs": [
    {
     "name": "stdout",
     "output_type": "stream",
     "text": [
      "[ 0.80567994 -0.00742699  0.62559009 -0.8781086   0.54468516 -2.93541141\n",
      "  0.04739063 -0.1815103   0.1589954  -0.38965466]\n"
     ]
    },
    {
     "data": {
      "text/html": [
       "<div>\n",
       "<style scoped>\n",
       "    .dataframe tbody tr th:only-of-type {\n",
       "        vertical-align: middle;\n",
       "    }\n",
       "\n",
       "    .dataframe tbody tr th {\n",
       "        vertical-align: top;\n",
       "    }\n",
       "\n",
       "    .dataframe thead th {\n",
       "        text-align: right;\n",
       "    }\n",
       "</style>\n",
       "<table border=\"1\" class=\"dataframe\">\n",
       "  <thead>\n",
       "    <tr style=\"text-align: right;\">\n",
       "      <th></th>\n",
       "      <th>AGE_DESC</th>\n",
       "      <th>MARITAL_STATUS_CODE</th>\n",
       "      <th>INCOME_DESC</th>\n",
       "      <th>HOMEOWNER_DESC</th>\n",
       "      <th>HH_COMP_DESC</th>\n",
       "      <th>KID_CATEGORY_DESC</th>\n",
       "      <th>Total_sales</th>\n",
       "      <th>total_visits</th>\n",
       "      <th>median_basket</th>\n",
       "      <th>avg_price</th>\n",
       "    </tr>\n",
       "  </thead>\n",
       "  <tbody>\n",
       "    <tr>\n",
       "      <th>count</th>\n",
       "      <td>525.00</td>\n",
       "      <td>525.00</td>\n",
       "      <td>525.00</td>\n",
       "      <td>525.00</td>\n",
       "      <td>525.00</td>\n",
       "      <td>525.00</td>\n",
       "      <td>525.00</td>\n",
       "      <td>525.00</td>\n",
       "      <td>525.00</td>\n",
       "      <td>525.00</td>\n",
       "    </tr>\n",
       "    <tr>\n",
       "      <th>mean</th>\n",
       "      <td>-0.00</td>\n",
       "      <td>0.00</td>\n",
       "      <td>-0.00</td>\n",
       "      <td>0.00</td>\n",
       "      <td>-0.00</td>\n",
       "      <td>0.00</td>\n",
       "      <td>-0.00</td>\n",
       "      <td>-0.00</td>\n",
       "      <td>0.00</td>\n",
       "      <td>-0.00</td>\n",
       "    </tr>\n",
       "    <tr>\n",
       "      <th>std</th>\n",
       "      <td>1.00</td>\n",
       "      <td>1.00</td>\n",
       "      <td>1.00</td>\n",
       "      <td>1.00</td>\n",
       "      <td>1.00</td>\n",
       "      <td>1.00</td>\n",
       "      <td>1.00</td>\n",
       "      <td>1.00</td>\n",
       "      <td>1.00</td>\n",
       "      <td>1.00</td>\n",
       "    </tr>\n",
       "    <tr>\n",
       "      <th>min</th>\n",
       "      <td>-2.03</td>\n",
       "      <td>-1.13</td>\n",
       "      <td>-1.99</td>\n",
       "      <td>-0.81</td>\n",
       "      <td>-2.11</td>\n",
       "      <td>-0.63</td>\n",
       "      <td>-2.94</td>\n",
       "      <td>-3.06</td>\n",
       "      <td>-3.14</td>\n",
       "      <td>-3.60</td>\n",
       "    </tr>\n",
       "    <tr>\n",
       "      <th>25%</th>\n",
       "      <td>-0.33</td>\n",
       "      <td>-1.13</td>\n",
       "      <td>-0.24</td>\n",
       "      <td>-0.81</td>\n",
       "      <td>-1.04</td>\n",
       "      <td>-0.63</td>\n",
       "      <td>-0.71</td>\n",
       "      <td>-0.64</td>\n",
       "      <td>-0.67</td>\n",
       "      <td>-0.61</td>\n",
       "    </tr>\n",
       "    <tr>\n",
       "      <th>50%</th>\n",
       "      <td>0.43</td>\n",
       "      <td>0.56</td>\n",
       "      <td>0.21</td>\n",
       "      <td>-0.81</td>\n",
       "      <td>-0.19</td>\n",
       "      <td>-0.63</td>\n",
       "      <td>0.01</td>\n",
       "      <td>-0.04</td>\n",
       "      <td>0.02</td>\n",
       "      <td>-0.01</td>\n",
       "    </tr>\n",
       "    <tr>\n",
       "      <th>75%</th>\n",
       "      <td>0.43</td>\n",
       "      <td>0.56</td>\n",
       "      <td>0.63</td>\n",
       "      <td>1.29</td>\n",
       "      <td>0.53</td>\n",
       "      <td>1.46</td>\n",
       "      <td>0.64</td>\n",
       "      <td>0.67</td>\n",
       "      <td>0.63</td>\n",
       "      <td>0.64</td>\n",
       "    </tr>\n",
       "    <tr>\n",
       "      <th>max</th>\n",
       "      <td>1.84</td>\n",
       "      <td>1.54</td>\n",
       "      <td>2.74</td>\n",
       "      <td>1.29</td>\n",
       "      <td>1.76</td>\n",
       "      <td>1.74</td>\n",
       "      <td>3.00</td>\n",
       "      <td>3.09</td>\n",
       "      <td>3.06</td>\n",
       "      <td>4.51</td>\n",
       "    </tr>\n",
       "  </tbody>\n",
       "</table>\n",
       "</div>"
      ],
      "text/plain": [
       "       AGE_DESC  MARITAL_STATUS_CODE  INCOME_DESC  HOMEOWNER_DESC  \\\n",
       "count    525.00               525.00       525.00          525.00   \n",
       "mean      -0.00                 0.00        -0.00            0.00   \n",
       "std        1.00                 1.00         1.00            1.00   \n",
       "min       -2.03                -1.13        -1.99           -0.81   \n",
       "25%       -0.33                -1.13        -0.24           -0.81   \n",
       "50%        0.43                 0.56         0.21           -0.81   \n",
       "75%        0.43                 0.56         0.63            1.29   \n",
       "max        1.84                 1.54         2.74            1.29   \n",
       "\n",
       "       HH_COMP_DESC  KID_CATEGORY_DESC  Total_sales  total_visits  \\\n",
       "count        525.00             525.00       525.00        525.00   \n",
       "mean          -0.00               0.00        -0.00         -0.00   \n",
       "std            1.00               1.00         1.00          1.00   \n",
       "min           -2.11              -0.63        -2.94         -3.06   \n",
       "25%           -1.04              -0.63        -0.71         -0.64   \n",
       "50%           -0.19              -0.63         0.01         -0.04   \n",
       "75%            0.53               1.46         0.64          0.67   \n",
       "max            1.76               1.74         3.00          3.09   \n",
       "\n",
       "       median_basket  avg_price  \n",
       "count         525.00     525.00  \n",
       "mean            0.00      -0.00  \n",
       "std             1.00       1.00  \n",
       "min            -3.14      -3.60  \n",
       "25%            -0.67      -0.61  \n",
       "50%             0.02      -0.01  \n",
       "75%             0.63       0.64  \n",
       "max             3.06       4.51  "
      ]
     },
     "execution_count": 23,
     "metadata": {},
     "output_type": "execute_result"
    }
   ],
   "source": [
    "#instantiate \n",
    "pt = PowerTransformer(method='yeo-johnson', standardize=True) \n",
    "\n",
    "#Fit the data to the powertransformer\n",
    "rescaler = pt.fit(X_train)\n",
    "\n",
    "#Lets get the Lambdas that were found\n",
    "print (rescaler.lambdas_)\n",
    "\n",
    "calc_lambdas = rescaler.lambdas_\n",
    "\n",
    "#Transform the data \n",
    "X_train_resc = rescaler.transform(X_train)\n",
    "X_test_resc=rescaler.transform(X_test)\n",
    "\n",
    "#Pass the transformed data into a new dataframe \n",
    "df_xt = pd.DataFrame(data=X_train_resc, columns=['AGE_DESC','MARITAL_STATUS_CODE','INCOME_DESC','HOMEOWNER_DESC','HH_COMP_DESC','KID_CATEGORY_DESC','Total_sales','total_visits','median_basket','avg_price'])\n",
    "\n",
    "df_xt.describe()"
   ]
  },
  {
   "cell_type": "markdown",
   "metadata": {
    "papermill": {
     "duration": 0.058282,
     "end_time": "2021-03-09T22:03:57.411820",
     "exception": false,
     "start_time": "2021-03-09T22:03:57.353538",
     "status": "completed"
    },
    "tags": []
   },
   "source": [
    "Now our variables are scaled to a 0 mean and unit variance thanks to Standardization and they have a more Gaussian distribution thanks to Power Transform transformation. We can perform a PCA for feature selection  \n",
    "(PCA doesn't necessarily assume the dataset to be Gaussian distributed)"
   ]
  },
  {
   "cell_type": "markdown",
   "metadata": {
    "papermill": {
     "duration": 0.058824,
     "end_time": "2021-03-09T22:03:57.530695",
     "exception": false,
     "start_time": "2021-03-09T22:03:57.471871",
     "status": "completed"
    },
    "tags": []
   },
   "source": [
    "### C. Feature selection <a class=\"anchor\" id=\"section_3_3\"></a>\n",
    "We will use the PCA transformation. Our first step will be to choose the number of components"
   ]
  },
  {
   "cell_type": "code",
   "execution_count": 24,
   "metadata": {
    "_kg_hide-input": true,
    "execution": {
     "iopub.execute_input": "2021-03-09T22:03:57.702642Z",
     "iopub.status.busy": "2021-03-09T22:03:57.701616Z",
     "iopub.status.idle": "2021-03-09T22:03:57.877988Z",
     "shell.execute_reply": "2021-03-09T22:03:57.877400Z"
    },
    "papermill": {
     "duration": 0.28911,
     "end_time": "2021-03-09T22:03:57.878111",
     "exception": false,
     "start_time": "2021-03-09T22:03:57.589001",
     "status": "completed"
    },
    "tags": []
   },
   "outputs": [
    {
     "data": {
      "image/png": "[encoded data removed]",
      "text/plain": [
       "<Figure size 864x792 with 1 Axes>"
      ]
     },
     "metadata": {
      "needs_background": "light"
     },
     "output_type": "display_data"
    }
   ],
   "source": [
    "pca = PCA().fit(X_train_resc)\n",
    "\n",
    "plt.rcParams[\"figure.figsize\"] = (12,11)\n",
    "\n",
    "fig, ax = plt.subplots()\n",
    "xi = np.arange(1, 11, step=1)\n",
    "y = np.cumsum(pca.explained_variance_ratio_)\n",
    "\n",
    "plt.ylim(0.0,1.1)\n",
    "plt.plot(xi, y, marker='o', linestyle='--', color='b')\n",
    "\n",
    "plt.xlabel('Number of Components')\n",
    "plt.xticks(np.arange(0, 11, step=1))\n",
    "plt.ylabel('Cumulative variance (%)')\n",
    "plt.title('The number of components needed to explain variance')\n",
    "\n",
    "plt.axhline(y=0.90, color='r', linestyle='-')\n",
    "plt.text(0.5, 0.90, '90% cut-off threshold', color = 'red', fontsize=16)\n",
    "\n",
    "ax.grid(axis='x')\n",
    "plt.show()"
   ]
  },
  {
   "cell_type": "markdown",
   "metadata": {
    "papermill": {
     "duration": 0.062042,
     "end_time": "2021-03-09T22:03:58.003074",
     "exception": false,
     "start_time": "2021-03-09T22:03:57.941032",
     "status": "completed"
    },
    "tags": []
   },
   "source": [
    "We will choose the number of components that __explains 90% of the variance__. From the graph we can see that we need __7 components__."
   ]
  },
  {
   "cell_type": "code",
   "execution_count": 25,
   "metadata": {
    "execution": {
     "iopub.execute_input": "2021-03-09T22:03:58.138573Z",
     "iopub.status.busy": "2021-03-09T22:03:58.132525Z",
     "iopub.status.idle": "2021-03-09T22:03:58.151089Z",
     "shell.execute_reply": "2021-03-09T22:03:58.150581Z"
    },
    "papermill": {
     "duration": 0.086817,
     "end_time": "2021-03-09T22:03:58.151202",
     "exception": false,
     "start_time": "2021-03-09T22:03:58.064385",
     "status": "completed"
    },
    "tags": []
   },
   "outputs": [
    {
     "data": {
      "text/plain": [
       "array([0.25450609, 0.17523455, 0.16027727, 0.11641416, 0.08013689,\n",
       "       0.06630728, 0.06154442])"
      ]
     },
     "execution_count": 25,
     "metadata": {},
     "output_type": "execute_result"
    }
   ],
   "source": [
    "# on standardized data\n",
    "pca_std = PCA(n_components=7).fit(X_train_resc)\n",
    "X_train_PCA = pca_std.transform(X_train_resc)\n",
    "X_test_PCA = pca_std.transform(X_test_resc)\n",
    "pca_std.explained_variance_ratio_"
   ]
  },
  {
   "cell_type": "markdown",
   "metadata": {
    "papermill": {
     "duration": 0.062082,
     "end_time": "2021-03-09T22:03:58.274937",
     "exception": false,
     "start_time": "2021-03-09T22:03:58.212855",
     "status": "completed"
    },
    "tags": []
   },
   "source": [
    "# 4. Model creation <a class=\"anchor\" id=\"section_4\"></a>"
   ]
  },
  {
   "cell_type": "markdown",
   "metadata": {
    "papermill": {
     "duration": 0.061292,
     "end_time": "2021-03-09T22:03:58.398585",
     "exception": false,
     "start_time": "2021-03-09T22:03:58.337293",
     "status": "completed"
    },
    "tags": []
   },
   "source": [
    "### A. Model baseline <a class=\"anchor\" id=\"section_4_1\"></a>"
   ]
  },
  {
   "cell_type": "code",
   "execution_count": 26,
   "metadata": {
    "execution": {
     "iopub.execute_input": "2021-03-09T22:03:58.534476Z",
     "iopub.status.busy": "2021-03-09T22:03:58.533549Z",
     "iopub.status.idle": "2021-03-09T22:03:59.148896Z",
     "shell.execute_reply": "2021-03-09T22:03:59.149857Z"
    },
    "papermill": {
     "duration": 0.687502,
     "end_time": "2021-03-09T22:03:59.150087",
     "exception": false,
     "start_time": "2021-03-09T22:03:58.462585",
     "status": "completed"
    },
    "tags": []
   },
   "outputs": [
    {
     "name": "stdout",
     "output_type": "stream",
     "text": [
      "Accuracy: 66.7% (4.3%)\n",
      "Precision: 55.8% (8.7%)\n"
     ]
    }
   ],
   "source": [
    "from sklearn.model_selection import cross_val_score\n",
    "\n",
    "#check the performance of the XGBoost model without tune parameters\n",
    "# fit model on training data\n",
    "from sklearn.model_selection import KFold\n",
    "from sklearn.model_selection import cross_val_score\n",
    "model = xgb.XGBClassifier()\n",
    "kfold = StratifiedKFold(n_splits=5, random_state=7,shuffle=True)\n",
    "\n",
    "\n",
    "Accuracy = cross_val_score(model, X_train_PCA, y_train, cv=kfold,scoring='accuracy')\n",
    "Precision = cross_val_score(model, X_train_PCA, y_train, cv=kfold,scoring='precision')\n",
    "\n",
    "print(\"Accuracy: %.1f%% (%.1f%%)\" % (Accuracy.mean()*100, Accuracy.std()*100))\n",
    "print(\"Precision: %.1f%% (%.1f%%)\" % (Precision.mean()*100, Precision.std()*100))"
   ]
  },
  {
   "cell_type": "markdown",
   "metadata": {
    "papermill": {
     "duration": 0.082659,
     "end_time": "2021-03-09T22:03:59.317573",
     "exception": false,
     "start_time": "2021-03-09T22:03:59.234914",
     "status": "completed"
    },
    "tags": []
   },
   "source": [
    "To assess the performance of our model, we will concentrate on __two evaluation metrics :__  \n",
    "- Accuracy\n",
    "- Precision  \n",
    "\n",
    "Precision is very interesting here as we would like to minimize as much as possible __Type 1 error__ also known as False positive. Indeed, we would like to avoid the case where a customer is predicted to be sensitive to coupons while in fact he is not. This would lead to money loss as we would print and send him/her coupons for nothing.  \n",
    "Our model report an __accuracy of 66.7%__ and a __precision of 55.8%__. This means that when our model predict that a customer is sensitive to coupon, it's correct 55.8% of the time.\n",
    "We will try to improve our model performance with some tuning."
   ]
  },
  {
   "cell_type": "markdown",
   "metadata": {
    "papermill": {
     "duration": 0.061019,
     "end_time": "2021-03-09T22:03:59.443799",
     "exception": false,
     "start_time": "2021-03-09T22:03:59.382780",
     "status": "completed"
    },
    "tags": []
   },
   "source": [
    "### B. Model hyperparameter tuning <a class=\"anchor\" id=\"section_4_2\"></a>"
   ]
  },
  {
   "cell_type": "code",
   "execution_count": 27,
   "metadata": {
    "_kg_hide-input": true,
    "execution": {
     "iopub.execute_input": "2021-03-09T22:03:59.572944Z",
     "iopub.status.busy": "2021-03-09T22:03:59.572167Z",
     "iopub.status.idle": "2021-03-09T22:07:00.314649Z",
     "shell.execute_reply": "2021-03-09T22:07:00.315397Z"
    },
    "papermill": {
     "duration": 180.812378,
     "end_time": "2021-03-09T22:07:00.315566",
     "exception": false,
     "start_time": "2021-03-09T22:03:59.503188",
     "status": "completed"
    },
    "tags": []
   },
   "outputs": [
    {
     "name": "stdout",
     "output_type": "stream",
     "text": [
      "[0]\tvalidation_0-logloss:0.68503\tvalidation_1-logloss:0.68804\n",
      "Multiple eval metrics have been passed: 'validation_1-logloss' will be used for early stopping.\n",
      "\n",
      "Will train until validation_1-logloss hasn't improved in 20 rounds.\n",
      "[20]\tvalidation_0-logloss:0.59981\tvalidation_1-logloss:0.64132\n",
      "[40]\tvalidation_0-logloss:0.56170\tvalidation_1-logloss:0.62880\n",
      "[60]\tvalidation_0-logloss:0.53557\tvalidation_1-logloss:0.62180\n",
      "[80]\tvalidation_0-logloss:0.51357\tvalidation_1-logloss:0.61562\n",
      "[100]\tvalidation_0-logloss:0.49641\tvalidation_1-logloss:0.61580\n",
      "[120]\tvalidation_0-logloss:0.48069\tvalidation_1-logloss:0.61690\n",
      "Stopping. Best iteration:\n",
      "[105]\tvalidation_0-logloss:0.49222\tvalidation_1-logloss:0.61551\n",
      "\n",
      "Best: 62.5% using {'gamma': 0.7, 'learning_rate': 0.05, 'max_depth': 2, 'n_estimators': 200}\n"
     ]
    }
   ],
   "source": [
    "# grid search to tune algorithm\n",
    "model = xgb.XGBClassifier()\n",
    "n_estimators = [50,100, 200, 300, 400,450, 500,600,1000]\n",
    "learning_rate = [0.01,0.05,0.1,0.2]\n",
    "max_depth= range(2,8)\n",
    "gamma=[0, 0.25, 0.5, 0.7, 0.9, 1.0]\n",
    "\n",
    "param_grid = dict(gamma=gamma,learning_rate=learning_rate, n_estimators=n_estimators,max_depth=max_depth)\n",
    "eval_set=[(X_train_PCA, y_train), (X_test_PCA, y_test)]\n",
    "kfold = StratifiedKFold(n_splits=5, random_state=7,shuffle=True)\n",
    "grid_search = GridSearchCV(model, param_grid,scoring='precision', n_jobs=-1, cv=kfold)\n",
    "grid_result = grid_search.fit(X_train_PCA, y_train,early_stopping_rounds= 20,eval_metric= [\"logloss\"],eval_set=eval_set,verbose=20)                       \n",
    "\n",
    "# summarize result\n",
    "print(\"Best: %.1f%% using %s\" % (grid_result.best_score_*100, grid_result.best_params_))"
   ]
  },
  {
   "cell_type": "markdown",
   "metadata": {
    "papermill": {
     "duration": 0.080826,
     "end_time": "2021-03-09T22:07:00.480642",
     "exception": false,
     "start_time": "2021-03-09T22:07:00.399816",
     "status": "completed"
    },
    "tags": []
   },
   "source": [
    "__We now fit model on training data with the optimized parameters found__"
   ]
  },
  {
   "cell_type": "code",
   "execution_count": 28,
   "metadata": {
    "_kg_hide-input": true,
    "execution": {
     "iopub.execute_input": "2021-03-09T22:07:00.624107Z",
     "iopub.status.busy": "2021-03-09T22:07:00.623516Z",
     "iopub.status.idle": "2021-03-09T22:07:01.136441Z",
     "shell.execute_reply": "2021-03-09T22:07:01.137060Z"
    },
    "papermill": {
     "duration": 0.588961,
     "end_time": "2021-03-09T22:07:01.137239",
     "exception": false,
     "start_time": "2021-03-09T22:07:00.548278",
     "status": "completed"
    },
    "tags": []
   },
   "outputs": [
    {
     "name": "stdout",
     "output_type": "stream",
     "text": [
      "Accuracy: 69.1%\n",
      "Precision: 62.5%\n"
     ]
    }
   ],
   "source": [
    "# fit model on training data\n",
    "model = xgb.XGBClassifier(learning_rate = 0.05,\\\n",
    "                          max_depth=2,\\\n",
    "                          n_estimators=200,\\\n",
    "                          gamma=0.7,\\\n",
    "                          objective = 'binary:logistic',\\\n",
    "                         )\n",
    "fit_params={'early_stopping_rounds': 20, \n",
    "            'eval_metric': 'logloss',\n",
    "            'verbose': False,\n",
    "            'eval_set': [(X_train_PCA, y_train), (X_test_PCA, y_test)]}\n",
    "                         \n",
    "kfold =  StratifiedKFold(n_splits=5, random_state=7,shuffle=True)\n",
    "\n",
    "Accuracy = cross_val_score(model, X_train_PCA, y_train, cv=kfold,scoring='accuracy',fit_params = fit_params)\n",
    "Precision = cross_val_score(model, X_train_PCA, y_train, cv=kfold,scoring='precision',fit_params = fit_params)\n",
    "\n",
    "print(\"Accuracy: %.1f%%\" % (Accuracy.mean()*100))\n",
    "print(\"Precision: %.1f%%\" % (Precision.mean()*100))"
   ]
  },
  {
   "cell_type": "markdown",
   "metadata": {
    "papermill": {
     "duration": 0.08515,
     "end_time": "2021-03-09T22:07:01.307706",
     "exception": false,
     "start_time": "2021-03-09T22:07:01.222556",
     "status": "completed"
    },
    "tags": []
   },
   "source": [
    "After hyperparameter tuning, our accuracy __improved to 69%__ and our __precision to 62%__. Let's now discover the performance of our model on the test set."
   ]
  },
  {
   "cell_type": "markdown",
   "metadata": {
    "papermill": {
     "duration": 0.064584,
     "end_time": "2021-03-09T22:07:01.441306",
     "exception": false,
     "start_time": "2021-03-09T22:07:01.376722",
     "status": "completed"
    },
    "tags": []
   },
   "source": [
    "# 5. Model results <a class=\"anchor\" id=\"section_5\"></a>"
   ]
  },
  {
   "cell_type": "markdown",
   "metadata": {
    "papermill": {
     "duration": 0.065065,
     "end_time": "2021-03-09T22:07:01.570563",
     "exception": false,
     "start_time": "2021-03-09T22:07:01.505498",
     "status": "completed"
    },
    "tags": []
   },
   "source": [
    "### A. Accuracy and Precision scores <a class=\"anchor\" id=\"section_5_1\"></a>"
   ]
  },
  {
   "cell_type": "code",
   "execution_count": 29,
   "metadata": {
    "_kg_hide-input": true,
    "execution": {
     "iopub.execute_input": "2021-03-09T22:07:01.712781Z",
     "iopub.status.busy": "2021-03-09T22:07:01.712085Z",
     "iopub.status.idle": "2021-03-09T22:07:01.781948Z",
     "shell.execute_reply": "2021-03-09T22:07:01.782736Z"
    },
    "papermill": {
     "duration": 0.146173,
     "end_time": "2021-03-09T22:07:01.782927",
     "exception": false,
     "start_time": "2021-03-09T22:07:01.636754",
     "status": "completed"
    },
    "tags": []
   },
   "outputs": [
    {
     "name": "stdout",
     "output_type": "stream",
     "text": [
      "accuracy: 67.26%\n",
      "Precision: 70.00%\n",
      "              precision    recall  f1-score   support\n",
      "\n",
      "           1       0.70      0.37      0.49        94\n",
      "           0       0.66      0.89      0.76       132\n",
      "\n",
      "    accuracy                           0.67       226\n",
      "   macro avg       0.68      0.63      0.62       226\n",
      "weighted avg       0.68      0.67      0.65       226\n",
      "\n"
     ]
    }
   ],
   "source": [
    "model = xgb.XGBClassifier(learning_rate = 0.05,\\\n",
    "                          max_depth=2,\\\n",
    "                          n_estimators=200,\\\n",
    "                          gamma=0.7,\\\n",
    "                          objective = 'binary:logistic',\\\n",
    "                          )\n",
    "\n",
    "eval_set = [(X_train_PCA, y_train), (X_test_PCA, y_test)]\n",
    "model.fit(X_train_PCA, y_train, early_stopping_rounds=20, eval_metric=[\"error\",\"logloss\"], eval_set=eval_set, verbose=False)\n",
    "# make predictions for test data\n",
    "predictions = model.predict(X_test_PCA)\n",
    "# evaluate predictions\n",
    "accuracy = accuracy_score(y_test, predictions)\n",
    "precision = precision_score(y_test, predictions)\n",
    "\n",
    "print(\"accuracy: %.2f%%\" % (accuracy * 100.0))\n",
    "print(\"Precision: %.2f%%\" % (precision * 100.0))\n",
    "print(classification_report(y_test, predictions,   labels=[1,0]))"
   ]
  },
  {
   "cell_type": "markdown",
   "metadata": {
    "papermill": {
     "duration": 0.083815,
     "end_time": "2021-03-09T22:07:01.958186",
     "exception": false,
     "start_time": "2021-03-09T22:07:01.874371",
     "status": "completed"
    },
    "tags": []
   },
   "source": [
    "Performance on test set reports an __accuracy of 67%__ and a __precision of 70%__"
   ]
  },
  {
   "cell_type": "markdown",
   "metadata": {
    "papermill": {
     "duration": 0.062481,
     "end_time": "2021-03-09T22:07:02.087532",
     "exception": false,
     "start_time": "2021-03-09T22:07:02.025051",
     "status": "completed"
    },
    "tags": []
   },
   "source": [
    "### B. Learning curves <a class=\"anchor\" id=\"section_5_2\"></a>"
   ]
  },
  {
   "cell_type": "code",
   "execution_count": 30,
   "metadata": {
    "_kg_hide-input": true,
    "execution": {
     "iopub.execute_input": "2021-03-09T22:07:02.233089Z",
     "iopub.status.busy": "2021-03-09T22:07:02.226793Z",
     "iopub.status.idle": "2021-03-09T22:07:02.592746Z",
     "shell.execute_reply": "2021-03-09T22:07:02.593222Z"
    },
    "papermill": {
     "duration": 0.441532,
     "end_time": "2021-03-09T22:07:02.593378",
     "exception": false,
     "start_time": "2021-03-09T22:07:02.151846",
     "status": "completed"
    },
    "tags": []
   },
   "outputs": [
    {
     "data": {
      "image/png": "[encoded data removed]",
      "text/plain": [
       "<Figure size 864x792 with 1 Axes>"
      ]
     },
     "metadata": {
      "needs_background": "light"
     },
     "output_type": "display_data"
    },
    {
     "data": {
      "image/png": "[encoded data removed]",
      "text/plain": [
       "<Figure size 864x792 with 1 Axes>"
      ]
     },
     "metadata": {
      "needs_background": "light"
     },
     "output_type": "display_data"
    }
   ],
   "source": [
    "# retrieve performance metrics\n",
    "results = model.evals_result()\n",
    "epochs = len(results['validation_0']['error'])\n",
    "x_axis = range(0, epochs)\n",
    "# plot log loss\n",
    "fig, ax = plt.subplots()\n",
    "ax.plot(x_axis, results['validation_0']['logloss'], label='Train')\n",
    "ax.plot(x_axis, results['validation_1']['logloss'], label='Test')\n",
    "ax.legend()\n",
    "plt.ylabel('Log Loss')\n",
    "plt.title('XGBoost Log Loss')\n",
    "plt.show()\n",
    "# plot classification error\n",
    "fig, ax = plt.subplots()\n",
    "ax.plot(x_axis, results['validation_0']['error'], label='Train')\n",
    "ax.plot(x_axis, results['validation_1']['error'], label='Test')\n",
    "ax.legend()\n",
    "plt.ylabel('Classification Error')\n",
    "plt.title('XGBoost Classification Error')\n",
    "plt.show()"
   ]
  },
  {
   "cell_type": "markdown",
   "metadata": {
    "papermill": {
     "duration": 0.065693,
     "end_time": "2021-03-09T22:07:02.725341",
     "exception": false,
     "start_time": "2021-03-09T22:07:02.659648",
     "status": "completed"
    },
    "tags": []
   },
   "source": [
    "We can see from the graph that __overfitting has been avoided__ thanks to early stopping. The best iteration has been found earlier at __round 105__ and this is confirmed graphically : we can see the test curve start slowly increasing again at this point "
   ]
  },
  {
   "cell_type": "markdown",
   "metadata": {
    "papermill": {
     "duration": 0.069372,
     "end_time": "2021-03-09T22:07:02.862137",
     "exception": false,
     "start_time": "2021-03-09T22:07:02.792765",
     "status": "completed"
    },
    "tags": []
   },
   "source": [
    "### C. Confusion matrix <a class=\"anchor\" id=\"section_5_3\"></a>"
   ]
  },
  {
   "cell_type": "code",
   "execution_count": 31,
   "metadata": {
    "_kg_hide-input": true,
    "execution": {
     "iopub.execute_input": "2021-03-09T22:07:03.008815Z",
     "iopub.status.busy": "2021-03-09T22:07:03.007325Z",
     "iopub.status.idle": "2021-03-09T22:07:03.173816Z",
     "shell.execute_reply": "2021-03-09T22:07:03.173304Z"
    },
    "papermill": {
     "duration": 0.243892,
     "end_time": "2021-03-09T22:07:03.173920",
     "exception": false,
     "start_time": "2021-03-09T22:07:02.930028",
     "status": "completed"
    },
    "tags": []
   },
   "outputs": [
    {
     "data": {
      "image/png": "[encoded data removed]",
      "text/plain": [
       "<Figure size 720x720 with 2 Axes>"
      ]
     },
     "metadata": {
      "needs_background": "light"
     },
     "output_type": "display_data"
    }
   ],
   "source": [
    "# confusion marix for the test data\n",
    "cm = sk.metrics.confusion_matrix(y_test, predictions,  labels=[1,0])\n",
    "\n",
    "fig, ax= plt.subplots(figsize=(10,10))\n",
    "sns.heatmap(cm, annot=True, fmt='g', ax = ax); \n",
    "\n",
    "# labels, title and ticks\n",
    "ax.set_xlabel('Predicted labels');\n",
    "ax.set_ylabel('True labels'); \n",
    "ax.set_title('Confusion Matrix'); \n",
    "ax.xaxis.set_ticklabels(['Sensible','Not sensible']); \n",
    "ax.yaxis.set_ticklabels(['Sensible','Not sensible']);"
   ]
  },
  {
   "cell_type": "markdown",
   "metadata": {
    "papermill": {
     "duration": 0.067279,
     "end_time": "2021-03-09T22:07:03.308751",
     "exception": false,
     "start_time": "2021-03-09T22:07:03.241472",
     "status": "completed"
    },
    "tags": []
   },
   "source": [
    "In conclusion we can use this model to predict if a customer is __sensitive__ to coupons __or not__. Compared to before, when we were sending coupons to customers, only 38% of them used to redeem their coupons meaning 62% of them were not interested. Now before each campaign we can use our prediction model to identify customers who won't use their coupons and either remove them from the mailing list or decide on different marketing actions to address them"
   ]
  }
 ],
 "metadata": {
  "kernelspec": {
   "display_name": "Python 3",
   "language": "python",
   "name": "python3"
  },
  "language_info": {
   "codemirror_mode": {
    "name": "ipython",
    "version": 3
   },
   "file_extension": ".py",
   "mimetype": "text/x-python",
   "name": "python",
   "nbconvert_exporter": "python",
   "pygments_lexer": "ipython3",
   "version": "3.7.6"
  },
  "papermill": {
   "duration": 212.311413,
   "end_time": "2021-03-09T22:07:03.494035",
   "environment_variables": {},
   "exception": null,
   "input_path": "__notebook__.ipynb",
   "output_path": "__notebook__.ipynb",
   "parameters": {},
   "start_time": "2021-03-09T22:03:31.182622",
   "version": "2.1.0"
  }
 },
 "nbformat": 4,
 "nbformat_minor": 4
}
